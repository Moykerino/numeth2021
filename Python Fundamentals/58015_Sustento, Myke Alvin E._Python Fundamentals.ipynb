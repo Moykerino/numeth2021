{
  "nbformat": 4,
  "nbformat_minor": 0,
  "metadata": {
    "colab": {
      "name": "CpE Programming 101.b - Python Fundamentals",
      "provenance": [],
      "collapsed_sections": [],
      "include_colab_link": true
    },
    "kernelspec": {
      "name": "python3",
      "display_name": "Python 3"
    }
  },
  "cells": [
    {
      "cell_type": "markdown",
      "metadata": {
        "id": "view-in-github",
        "colab_type": "text"
      },
      "source": [
        "<a href=\"https://colab.research.google.com/github/Sus102/numeth2021/blob/main/58015_Sustento%2C%20Myke%20Alvin%20E._Python%20Fundamentals.ipynb\" target=\"_parent\"><img src=\"https://colab.research.google.com/assets/colab-badge.svg\" alt=\"Open In Colab\"/></a>"
      ]
    },
    {
      "cell_type": "markdown",
      "metadata": {
        "id": "QnAdk8hy7Bl9"
      },
      "source": [
        "# Welcome to Python Fundamentals\r\n",
        "*by M.A. Sustento © 2021*\r\n",
        "\r\n",
        "In this module, we are going to establish or review our skills in Python programming. In this notebook we are going to cover:\r\n",
        "* Variables and Data Types \r\n",
        "* Operations\r\n",
        "* Input and Output Operations\r\n",
        "* Logic Control\r\n",
        "* Iterables\r\n",
        "* Functions"
      ]
    },
    {
      "cell_type": "markdown",
      "metadata": {
        "id": "T6ABRAjTT1Ta"
      },
      "source": [
        "## Variable and Data Types\r\n",
        "Variable serves as a container for data [1]. Everything about programming is data and manipulating those data so variables are extremely important in programming. There are different types of data which has various different uses [2]. These data types can be seen in the image below. "
      ]
    },
    {
      "cell_type": "markdown",
      "metadata": {
        "id": "MIP4YV6r9-hj"
      },
      "source": [
        "![image](https://www.softwaretestingmaterial.com/wp-content/uploads/2018/03/Data-Types.png)"
      ]
    },
    {
      "cell_type": "code",
      "metadata": {
        "id": "G8JI3DTZ616F"
      },
      "source": [
        "x = 1\r\n",
        "a,b = 0, -1"
      ],
      "execution_count": null,
      "outputs": []
    },
    {
      "cell_type": "code",
      "metadata": {
        "id": "QLT9rz2dUJ95"
      },
      "source": [
        "type(x)"
      ],
      "execution_count": null,
      "outputs": []
    },
    {
      "cell_type": "code",
      "metadata": {
        "id": "TR_rvX4SUWqx"
      },
      "source": [
        "y = 1.0\r\n",
        "type(y)"
      ],
      "execution_count": null,
      "outputs": []
    },
    {
      "cell_type": "code",
      "metadata": {
        "id": "FqV2upOiXcnC"
      },
      "source": [
        "x = float(x)\r\n",
        "type(x)"
      ],
      "execution_count": null,
      "outputs": []
    },
    {
      "cell_type": "code",
      "metadata": {
        "id": "2tuyqwmyXiDb"
      },
      "source": [
        "s,t,u = \"0\", '1', 'one'\r\n",
        "type(s)"
      ],
      "execution_count": null,
      "outputs": []
    },
    {
      "cell_type": "code",
      "metadata": {
        "id": "6JwWqHx3XlmB"
      },
      "source": [
        "s_int = int(s)\r\n",
        "s_int"
      ],
      "execution_count": null,
      "outputs": []
    },
    {
      "cell_type": "markdown",
      "metadata": {
        "id": "9RgPwQR4YVG5"
      },
      "source": [
        "## Operations\r\n",
        "Operations is about computing data through the use of mathematics."
      ]
    },
    {
      "cell_type": "markdown",
      "metadata": {
        "id": "P8tIvHQPajr4"
      },
      "source": [
        ""
      ]
    },
    {
      "cell_type": "markdown",
      "metadata": {
        "id": "mvoS_zuJYbsg"
      },
      "source": [
        "### Arithmetic\r\n",
        "Arithmetic operators are used to with numbers to do common mathematical operations [3]. The different arithmetic operators can be seen in the image below along with its meanings and examples"
      ]
    },
    {
      "cell_type": "markdown",
      "metadata": {
        "id": "4iGZ4oDfAUQ6"
      },
      "source": [
        "![image](https://d1e4pidl3fu268.cloudfront.net/f20083ef-a2fb-4673-ac88-13d58ba68133/Arithmeticoperators.png)"
      ]
    },
    {
      "cell_type": "code",
      "metadata": {
        "id": "DSjUO0KcYoE-"
      },
      "source": [
        "a,b,c,d = 2.0, -0.5, 0, -32"
      ],
      "execution_count": null,
      "outputs": []
    },
    {
      "cell_type": "code",
      "metadata": {
        "id": "o_kk0XFzYX9o",
        "colab": {
          "base_uri": "https://localhost:8080/"
        },
        "outputId": "14b79af5-c41f-43c1-9416-3cb7eb52d65d"
      },
      "source": [
        "### Addition\r\n",
        "S = a+b\r\n",
        "S"
      ],
      "execution_count": null,
      "outputs": [
        {
          "output_type": "execute_result",
          "data": {
            "text/plain": [
              "1.5"
            ]
          },
          "metadata": {
            "tags": []
          },
          "execution_count": 2
        }
      ]
    },
    {
      "cell_type": "code",
      "metadata": {
        "id": "TC5oFq3MY4jk",
        "colab": {
          "base_uri": "https://localhost:8080/"
        },
        "outputId": "1d557d9e-d697-423f-ec08-09281f676214"
      },
      "source": [
        "### Subtraction\r\n",
        "D = b-d\r\n",
        "D"
      ],
      "execution_count": null,
      "outputs": [
        {
          "output_type": "execute_result",
          "data": {
            "text/plain": [
              "31.5"
            ]
          },
          "metadata": {
            "tags": []
          },
          "execution_count": 3
        }
      ]
    },
    {
      "cell_type": "code",
      "metadata": {
        "id": "j0bGayj5Y9wr",
        "colab": {
          "base_uri": "https://localhost:8080/"
        },
        "outputId": "54679ad2-d04d-432b-8f07-904d24b02d4a"
      },
      "source": [
        "### Multiplication\r\n",
        "P = a*d\r\n",
        "P"
      ],
      "execution_count": null,
      "outputs": [
        {
          "output_type": "execute_result",
          "data": {
            "text/plain": [
              "-64.0"
            ]
          },
          "metadata": {
            "tags": []
          },
          "execution_count": 4
        }
      ]
    },
    {
      "cell_type": "code",
      "metadata": {
        "id": "FnMWmq5LZLEU",
        "colab": {
          "base_uri": "https://localhost:8080/"
        },
        "outputId": "ceb86e29-3f65-4e32-8345-a22d78cf02c3"
      },
      "source": [
        "### Division\r\n",
        "Q = c/a\r\n",
        "Q"
      ],
      "execution_count": null,
      "outputs": [
        {
          "output_type": "execute_result",
          "data": {
            "text/plain": [
              "0.0"
            ]
          },
          "metadata": {
            "tags": []
          },
          "execution_count": 5
        }
      ]
    },
    {
      "cell_type": "code",
      "metadata": {
        "id": "cQeVcFIWZd8o",
        "colab": {
          "base_uri": "https://localhost:8080/"
        },
        "outputId": "5aa08ece-3c67-4860-d495-a4635367da0b"
      },
      "source": [
        "### Floor Division\r\n",
        "Fq = a//b\r\n",
        "Fq"
      ],
      "execution_count": null,
      "outputs": [
        {
          "output_type": "execute_result",
          "data": {
            "text/plain": [
              "-4.0"
            ]
          },
          "metadata": {
            "tags": []
          },
          "execution_count": 6
        }
      ]
    },
    {
      "cell_type": "code",
      "metadata": {
        "id": "YLaUu6APZSzR",
        "colab": {
          "base_uri": "https://localhost:8080/"
        },
        "outputId": "87979b5b-ead5-45b9-ccad-8bedd05ccdab"
      },
      "source": [
        "### Exponentiation\r\n",
        "E = a**b\r\n",
        "E"
      ],
      "execution_count": null,
      "outputs": [
        {
          "output_type": "execute_result",
          "data": {
            "text/plain": [
              "0.7071067811865476"
            ]
          },
          "metadata": {
            "tags": []
          },
          "execution_count": 7
        }
      ]
    },
    {
      "cell_type": "code",
      "metadata": {
        "id": "uf_0sf4CZ1JT",
        "colab": {
          "base_uri": "https://localhost:8080/"
        },
        "outputId": "e475fc42-66ab-47d6-f0f8-db4f586e5ea8"
      },
      "source": [
        "### Modulo\r\n",
        "mod = d%a\r\n",
        "mod"
      ],
      "execution_count": null,
      "outputs": [
        {
          "output_type": "execute_result",
          "data": {
            "text/plain": [
              "0.0"
            ]
          },
          "metadata": {
            "tags": []
          },
          "execution_count": 8
        }
      ]
    },
    {
      "cell_type": "markdown",
      "metadata": {
        "id": "afyWvb1ZaJJ6"
      },
      "source": [
        "### Assignment Operations\r\n",
        "Assignment operators are what is used to assign values to the container of data known as variables [4]. This is to represent values using variables. The operators along with examples can be seen in the image below."
      ]
    },
    {
      "cell_type": "markdown",
      "metadata": {
        "id": "Ptm5PmdvYv8v"
      },
      "source": [
        "![image](https://i1.wp.com/makemeanalyst.com/wp-content/uploads/2017/06/Assignment-Operator.png?resize=590%2C426)"
      ]
    },
    {
      "cell_type": "code",
      "metadata": {
        "id": "rMZ8r4WhanaE"
      },
      "source": [
        "G, H, J, K = 0, 100, 2, 2"
      ],
      "execution_count": null,
      "outputs": []
    },
    {
      "cell_type": "code",
      "metadata": {
        "id": "IX0EbJ8RaMih",
        "colab": {
          "base_uri": "https://localhost:8080/"
        },
        "outputId": "e5d71c71-ec1a-46fe-92f8-34029a6eb927"
      },
      "source": [
        "G += a\r\n",
        "G"
      ],
      "execution_count": null,
      "outputs": [
        {
          "output_type": "execute_result",
          "data": {
            "text/plain": [
              "2.0"
            ]
          },
          "metadata": {
            "tags": []
          },
          "execution_count": 10
        }
      ]
    },
    {
      "cell_type": "code",
      "metadata": {
        "id": "aIj4hA-JaRA0"
      },
      "source": [
        "H -= d"
      ],
      "execution_count": null,
      "outputs": []
    },
    {
      "cell_type": "code",
      "metadata": {
        "id": "vuuDbAbNaXgS",
        "colab": {
          "base_uri": "https://localhost:8080/"
        },
        "outputId": "db8601ee-396e-4930-f58f-cebccfa7955b"
      },
      "source": [
        "J *= 2\r\n",
        "J"
      ],
      "execution_count": null,
      "outputs": [
        {
          "output_type": "execute_result",
          "data": {
            "text/plain": [
              "4"
            ]
          },
          "metadata": {
            "tags": []
          },
          "execution_count": 12
        }
      ]
    },
    {
      "cell_type": "code",
      "metadata": {
        "id": "sGVXGduUaeAj",
        "colab": {
          "base_uri": "https://localhost:8080/"
        },
        "outputId": "8b71acb5-56da-45ce-c7b9-e1809f461b0b"
      },
      "source": [
        "K **= 2\r\n",
        "K"
      ],
      "execution_count": null,
      "outputs": [
        {
          "output_type": "execute_result",
          "data": {
            "text/plain": [
              "4"
            ]
          },
          "metadata": {
            "tags": []
          },
          "execution_count": 13
        }
      ]
    },
    {
      "cell_type": "markdown",
      "metadata": {
        "id": "UGXuqhVNbW7R"
      },
      "source": [
        "### Comparators\r\n",
        "Comparators are exactly what its name says, it is used to compare two values [5]. These comparators can be seen in the image below along with its description and examples."
      ]
    },
    {
      "cell_type": "markdown",
      "metadata": {
        "id": "uAhQzGhpBi4D"
      },
      "source": [
        "![image](https://www.learnsimpli.com/wp-content/uploads/2020/03/3-3.png)"
      ]
    },
    {
      "cell_type": "code",
      "metadata": {
        "id": "Oj9xLaEaYeuY"
      },
      "source": [
        "res_1, res_2, res_3 = 1, 2.0, \"1\"\r\n",
        "true_val = 1.0"
      ],
      "execution_count": null,
      "outputs": []
    },
    {
      "cell_type": "code",
      "metadata": {
        "id": "GEXm6RSsbA8Q",
        "colab": {
          "base_uri": "https://localhost:8080/"
        },
        "outputId": "ffd7075e-5b15-45e9-f1dd-70bce2aeb2b9"
      },
      "source": [
        "## Equality\r\n",
        "res_1 == true_val"
      ],
      "execution_count": null,
      "outputs": [
        {
          "output_type": "execute_result",
          "data": {
            "text/plain": [
              "True"
            ]
          },
          "metadata": {
            "tags": []
          },
          "execution_count": 15
        }
      ]
    },
    {
      "cell_type": "code",
      "metadata": {
        "id": "SdHk_b58bZhD",
        "colab": {
          "base_uri": "https://localhost:8080/"
        },
        "outputId": "81ab3e82-caac-4f7f-cd3e-a44dfb90f272"
      },
      "source": [
        "## Non-equality\r\n",
        "res_2 != true_val"
      ],
      "execution_count": null,
      "outputs": [
        {
          "output_type": "execute_result",
          "data": {
            "text/plain": [
              "True"
            ]
          },
          "metadata": {
            "tags": []
          },
          "execution_count": 16
        }
      ]
    },
    {
      "cell_type": "code",
      "metadata": {
        "id": "EnA4q50JbQB5",
        "colab": {
          "base_uri": "https://localhost:8080/"
        },
        "outputId": "78a494d0-5804-465b-d73b-c05e9cca2615"
      },
      "source": [
        "## Inequality\r\n",
        "t1 = res_1 > res_2\r\n",
        "t2 = res_1 < res_2/2\r\n",
        "t3 = res_1 >= res_2/2\r\n",
        "t4 = res_1 <= res_2  \r\n",
        "t1"
      ],
      "execution_count": null,
      "outputs": [
        {
          "output_type": "execute_result",
          "data": {
            "text/plain": [
              "False"
            ]
          },
          "metadata": {
            "tags": []
          },
          "execution_count": 17
        }
      ]
    },
    {
      "cell_type": "markdown",
      "metadata": {
        "id": "9WkfdvbfcC1Y"
      },
      "source": [
        "### Logical\r\n",
        "Logical operators are used to combine conditional statements [6]. Logical operators are especially useful in tackling discrete mathematics. The image below provides examples of logical operators."
      ]
    },
    {
      "cell_type": "markdown",
      "metadata": {
        "id": "ScLFZvfiY9Rt"
      },
      "source": [
        "![image](https://d2h0cx97tjks2p.cloudfront.net/blogs/wp-content/uploads/sites/2/2017/12/Python-Logical-Operator-01.jpg)"
      ]
    },
    {
      "cell_type": "code",
      "metadata": {
        "id": "cYVG6YeNb-Gz",
        "colab": {
          "base_uri": "https://localhost:8080/"
        },
        "outputId": "3338be90-e768-4a5e-a483-f56a003d0732"
      },
      "source": [
        "res_1 == true_val"
      ],
      "execution_count": null,
      "outputs": [
        {
          "output_type": "execute_result",
          "data": {
            "text/plain": [
              "True"
            ]
          },
          "metadata": {
            "tags": []
          },
          "execution_count": 18
        }
      ]
    },
    {
      "cell_type": "code",
      "metadata": {
        "id": "rLe6hpkHcN-z",
        "colab": {
          "base_uri": "https://localhost:8080/"
        },
        "outputId": "7f193722-8dba-45e8-d565-0ba949ab2eda"
      },
      "source": [
        "res_1 is true_val"
      ],
      "execution_count": null,
      "outputs": [
        {
          "output_type": "execute_result",
          "data": {
            "text/plain": [
              "False"
            ]
          },
          "metadata": {
            "tags": []
          },
          "execution_count": 19
        }
      ]
    },
    {
      "cell_type": "code",
      "metadata": {
        "id": "tr5qxHQmcO-C",
        "colab": {
          "base_uri": "https://localhost:8080/"
        },
        "outputId": "b9ebc2b6-6127-4117-fb99-cd5667265539"
      },
      "source": [
        "res_1 is not true_val"
      ],
      "execution_count": null,
      "outputs": [
        {
          "output_type": "execute_result",
          "data": {
            "text/plain": [
              "True"
            ]
          },
          "metadata": {
            "tags": []
          },
          "execution_count": 20
        }
      ]
    },
    {
      "cell_type": "code",
      "metadata": {
        "id": "3GU72N-Gcslz",
        "colab": {
          "base_uri": "https://localhost:8080/"
        },
        "outputId": "96b0b34a-0533-4541-c5c2-0ecbd00490b9"
      },
      "source": [
        "p, q = True, False\r\n",
        "conj = p and q\r\n",
        "conj"
      ],
      "execution_count": null,
      "outputs": [
        {
          "output_type": "execute_result",
          "data": {
            "text/plain": [
              "False"
            ]
          },
          "metadata": {
            "tags": []
          },
          "execution_count": 21
        }
      ]
    },
    {
      "cell_type": "code",
      "metadata": {
        "id": "ihMxcT6KcvQj",
        "colab": {
          "base_uri": "https://localhost:8080/"
        },
        "outputId": "dbb1554f-6b60-493b-fb52-1e1dc01f9984"
      },
      "source": [
        "p, q = True, False\r\n",
        "disj = p or q\r\n",
        "disj"
      ],
      "execution_count": null,
      "outputs": [
        {
          "output_type": "execute_result",
          "data": {
            "text/plain": [
              "True"
            ]
          },
          "metadata": {
            "tags": []
          },
          "execution_count": 22
        }
      ]
    },
    {
      "cell_type": "code",
      "metadata": {
        "id": "T-QfmeYgcyGQ",
        "colab": {
          "base_uri": "https://localhost:8080/"
        },
        "outputId": "7e1d4ce1-0f75-425c-a9bd-c45e67bf1a5d"
      },
      "source": [
        "p, q = True, False\r\n",
        "nand = not(p and q)\r\n",
        "nand"
      ],
      "execution_count": null,
      "outputs": [
        {
          "output_type": "execute_result",
          "data": {
            "text/plain": [
              "True"
            ]
          },
          "metadata": {
            "tags": []
          },
          "execution_count": 23
        }
      ]
    },
    {
      "cell_type": "code",
      "metadata": {
        "id": "2HL7SlVbc10k",
        "colab": {
          "base_uri": "https://localhost:8080/"
        },
        "outputId": "cf346bf3-e808-4dc7-99f6-8ee67daa7790"
      },
      "source": [
        "p, q = True, False\r\n",
        "xor = (not p and q) or (p and not q)\r\n",
        "xor"
      ],
      "execution_count": null,
      "outputs": [
        {
          "output_type": "execute_result",
          "data": {
            "text/plain": [
              "True"
            ]
          },
          "metadata": {
            "tags": []
          },
          "execution_count": 24
        }
      ]
    },
    {
      "cell_type": "markdown",
      "metadata": {
        "id": "AQx4DKafYffJ"
      },
      "source": [
        "### I/O\r\n",
        "I/O stands for input and output. Their names are actually self explanatory. Basically, input is the data that was put in by the user while output is the result that will be displayed by the computer. "
      ]
    },
    {
      "cell_type": "code",
      "metadata": {
        "id": "Q-DVERG5Yk9w",
        "colab": {
          "base_uri": "https://localhost:8080/"
        },
        "outputId": "6fae3ca7-e16f-484e-8ef4-c0a7746083c9"
      },
      "source": [
        "print(\"Hello World\")"
      ],
      "execution_count": null,
      "outputs": [
        {
          "output_type": "stream",
          "text": [
            "Hello World\n"
          ],
          "name": "stdout"
        }
      ]
    },
    {
      "cell_type": "code",
      "metadata": {
        "id": "fS5wN51beSVF"
      },
      "source": [
        "cnt = 1"
      ],
      "execution_count": null,
      "outputs": []
    },
    {
      "cell_type": "code",
      "metadata": {
        "id": "hKNaUXmdZdUo",
        "colab": {
          "base_uri": "https://localhost:8080/"
        },
        "outputId": "7b34ae3c-8d28-44c6-b593-f283e8bf6112"
      },
      "source": [
        "string = \"Hello World\"\r\n",
        "print(string, \", Current run count is:\", cnt)\r\n",
        "cnt += 1"
      ],
      "execution_count": null,
      "outputs": [
        {
          "output_type": "stream",
          "text": [
            "Hello World , Current run count is: 1\n"
          ],
          "name": "stdout"
        }
      ]
    },
    {
      "cell_type": "code",
      "metadata": {
        "id": "15_WdzEZcOVX",
        "colab": {
          "base_uri": "https://localhost:8080/"
        },
        "outputId": "476d64f6-fbc6-4ca5-98a5-2fd3c57fe31e"
      },
      "source": [
        "print(f\"{string}, Current count is: {cnt}\")"
      ],
      "execution_count": null,
      "outputs": [
        {
          "output_type": "stream",
          "text": [
            "Hello World, Current count is: 2\n"
          ],
          "name": "stdout"
        }
      ]
    },
    {
      "cell_type": "code",
      "metadata": {
        "id": "5m9XtFOPcOXo",
        "colab": {
          "base_uri": "https://localhost:8080/"
        },
        "outputId": "78c491a9-2c71-4d58-c836-973669cf13d3"
      },
      "source": [
        "sem_grade = 82.243564657461234\r\n",
        "name = \"\"\r\n",
        "print(\"Hello {}, your semestral grade is: {}\".format(name, sem_grade))"
      ],
      "execution_count": null,
      "outputs": [
        {
          "output_type": "stream",
          "text": [
            "Hello , your semestral grade is: 82.24356465746123\n"
          ],
          "name": "stdout"
        }
      ]
    },
    {
      "cell_type": "code",
      "metadata": {
        "id": "SMJx6bTnfdgZ",
        "colab": {
          "base_uri": "https://localhost:8080/"
        },
        "outputId": "941eb6c0-b705-4530-ccb2-ab72ee6fd524"
      },
      "source": [
        "w_pg, w_mg, w_fg = 0.3, 0.3, 0.4\r\n",
        "print(\"The weights of your semestral grades are:\\\r\n",
        "\\n\\t{:.2%} for Prelims\\\r\n",
        "\\n\\t{:.2%} for Midterms, and\\\r\n",
        "\\n\\t{:.2%} for Finals.\".format(w_pg, w_mg, w_fg))"
      ],
      "execution_count": null,
      "outputs": [
        {
          "output_type": "stream",
          "text": [
            "The weights of your semestral grades are:\n",
            "\t30.00% for Prelims\n",
            "\t30.00% for Midterms, and\n",
            "\t40.00% for Finals.\n"
          ],
          "name": "stdout"
        }
      ]
    },
    {
      "cell_type": "code",
      "metadata": {
        "id": "Ob2I_zR3jAcZ",
        "colab": {
          "base_uri": "https://localhost:8080/",
          "height": 52
        },
        "outputId": "2baa2032-d48f-4e95-e8b4-dcca1c17980e"
      },
      "source": [
        "x = input(\"enter a number: \")\r\n",
        "x"
      ],
      "execution_count": null,
      "outputs": [
        {
          "output_type": "stream",
          "text": [
            "enter a number: \n"
          ],
          "name": "stdout"
        },
        {
          "output_type": "execute_result",
          "data": {
            "application/vnd.google.colaboratory.intrinsic+json": {
              "type": "string"
            },
            "text/plain": [
              "''"
            ]
          },
          "metadata": {
            "tags": []
          },
          "execution_count": 31
        }
      ]
    },
    {
      "cell_type": "code",
      "metadata": {
        "id": "T7ODFfcMh9Pg",
        "colab": {
          "base_uri": "https://localhost:8080/"
        },
        "outputId": "2d6949bc-8cc3-4fc7-a40f-38d01f7dcb58"
      },
      "source": [
        "name = input(\"Kimi no nawa: \")\r\n",
        "pg = float(input(\"Enter prelim grade: \"))\r\n",
        "mg = float(input(\"Enter midterm grade: \"))\r\n",
        "fg = float(input(\"Enter finals grade: \"))\r\n",
        "sem_grade = w_pg*pg + w_mg*mg + w_fg*fg\r\n",
        "print(\"Hello {}, your semestral grade is: {}\".format(name, sem_grade))"
      ],
      "execution_count": null,
      "outputs": [
        {
          "output_type": "stream",
          "text": [
            "Kimi no nawa: moyk\n",
            "Enter prelim grade: 70\n",
            "Enter midterm grade: 70\n",
            "Enter finals grade: 70\n",
            "Hello moyk, your semestral grade is: 70.0\n"
          ],
          "name": "stdout"
        }
      ]
    },
    {
      "cell_type": "markdown",
      "metadata": {
        "id": "i0g3EothhvqL"
      },
      "source": [
        "# Looping Statements\r\n",
        "Looping are sequence of instructions that does a specific set of tasks and continues that tasks until the conditions provided is successfully met [7]."
      ]
    },
    {
      "cell_type": "markdown",
      "metadata": {
        "id": "j4w90VAIjcFJ"
      },
      "source": [
        "## While\r\n",
        "A while loop can execute a set of statements as long as the condition remains true [8]. This is useful since it is a way to avoid repetition of codes."
      ]
    },
    {
      "cell_type": "code",
      "metadata": {
        "id": "4vtSrBPThlse"
      },
      "source": [
        "## while loops\r\n",
        "i, j = 0, 10\r\n",
        "while(i<=j):\r\n",
        "    print(f\"{i}\\t|\\t{j}\")\r\n",
        "    i+=1"
      ],
      "execution_count": null,
      "outputs": []
    },
    {
      "cell_type": "markdown",
      "metadata": {
        "id": "Qz6AH6jRjfUg"
      },
      "source": [
        "## For\r\n",
        "A for loop is used for iterating over sequences such as lists, tuple, set, strings, etc. [9]. This is useful for manipulating sequences while using the least amount of code."
      ]
    },
    {
      "cell_type": "code",
      "metadata": {
        "id": "q0DUwfRkjZY7"
      },
      "source": [
        "# for(int i=0; i<10; i++){\r\n",
        "# printf(i)\r\n",
        "# }\r\n",
        "\r\n",
        "i=0\r\n",
        "for i in range(10):\r\n",
        "    print(i)"
      ],
      "execution_count": null,
      "outputs": []
    },
    {
      "cell_type": "code",
      "metadata": {
        "id": "zaM--lUhjiUg"
      },
      "source": [
        "playlist = []\r\n",
        "print('Now Playing:\\n')\r\n",
        "for song in playlist:\r\n",
        "    print(song)"
      ],
      "execution_count": null,
      "outputs": []
    },
    {
      "cell_type": "markdown",
      "metadata": {
        "id": "N6jTqTZojnSg"
      },
      "source": [
        "# Flow Control\r\n",
        "Flow control is about controlling the flow of the program to make it optimized and orderly."
      ]
    },
    {
      "cell_type": "markdown",
      "metadata": {
        "id": "uhnsV2CijrWQ"
      },
      "source": [
        "## Condition Statements\r\n",
        "Conditional statements are used to execute a given task or instruction as long as the given conditions are met"
      ]
    },
    {
      "cell_type": "code",
      "metadata": {
        "id": "seJplrJojmTg",
        "colab": {
          "base_uri": "https://localhost:8080/"
        },
        "outputId": "7c3de214-7bf7-4b00-c9ea-2f7363511d05"
      },
      "source": [
        "numeral1, numeral2 = 12, 12\r\n",
        "if (numeral1 == numeral2):\r\n",
        "    print(\"Yey\")\r\n",
        "elif (numeral1>numeral2):\r\n",
        "    print(\"Hoho\")\r\n",
        "else:\r\n",
        "    print(\"Aww\")\r\n",
        "print(\"Hip hip\")"
      ],
      "execution_count": null,
      "outputs": [
        {
          "output_type": "stream",
          "text": [
            "Yey\n",
            "Hip hip\n"
          ],
          "name": "stdout"
        }
      ]
    },
    {
      "cell_type": "markdown",
      "metadata": {
        "id": "tlnG1OKilNLo"
      },
      "source": [
        "# Functions\r\n",
        "Function is a block of code that only executes if it was called [10]. Functions are used to organize and easily execute codes."
      ]
    },
    {
      "cell_type": "code",
      "metadata": {
        "id": "1iMUEipnlUKY"
      },
      "source": [
        "# void DeleteUser(int userid){\r\n",
        "#     delete(userid);\r\n",
        "# }\r\n",
        "\r\n",
        "def delete_user (userid):\r\n",
        "    print(\"Successfully deleted user: {}\".format(userid))\r\n",
        "    \r\n",
        "def delete_all_users ():\r\n",
        "    print(\"Successfully deleted all users\")"
      ],
      "execution_count": null,
      "outputs": []
    },
    {
      "cell_type": "code",
      "metadata": {
        "id": "v_TkrftylUEA"
      },
      "source": [
        "userid = 0\r\n",
        "delete_user(0)\r\n",
        "delete_all_users()"
      ],
      "execution_count": null,
      "outputs": []
    },
    {
      "cell_type": "code",
      "metadata": {
        "id": "M0ffjw31lT8Y"
      },
      "source": [
        "def add(addend1, addend2):\r\n",
        "    return addend1 + addend2\r\n",
        "\r\n",
        "def power_of_base2(exponent):\r\n",
        "    return 2**exponent"
      ],
      "execution_count": null,
      "outputs": []
    },
    {
      "cell_type": "markdown",
      "metadata": {
        "id": "2_tDT01oFEGQ"
      },
      "source": [
        "### Lambda Functions\r\n",
        "Lambda functions, also called anonymous functions, can be used to take any number of arguments but can only have one expression [11]. They work the same as regular functions but they can be defined without names. They are especially useful to create one-liners for better optimization of code. "
      ]
    },
    {
      "cell_type": "code",
      "metadata": {
        "id": "tmmBNW9pFg-4"
      },
      "source": [
        "x = 4"
      ],
      "execution_count": null,
      "outputs": []
    },
    {
      "cell_type": "code",
      "metadata": {
        "id": "_9KYzCrIFCpI"
      },
      "source": [
        "def f(x):\r\n",
        "  return 2*(x*x)-1\r\n",
        "f(x)"
      ],
      "execution_count": null,
      "outputs": []
    },
    {
      "cell_type": "code",
      "metadata": {
        "id": "a2uwKwqFFafn"
      },
      "source": [
        "g = lambda x: 2*(x*x)-1\r\n",
        "print(g(x))"
      ],
      "execution_count": null,
      "outputs": []
    },
    {
      "cell_type": "code",
      "metadata": {
        "id": "Rjm9RFrGlMgA",
        "colab": {
          "base_uri": "https://localhost:8080/",
          "height": 0
        },
        "outputId": "6a1e3b38-dfec-4a09-ed67-c70402730f97"
      },
      "source": [
        "'''\r\n",
        "Create a grade calculator that computes for the semestral grade of a course.\r\n",
        "Students could type their names, the name of the course, then their prelim,\r\n",
        "midterm, and final grade.\r\n",
        "The program should print the semestral grade in 2 decimal points and should\r\n",
        "display the following emojis depending on the situation:\r\n",
        "happy - when grade is greater than 70.00\r\n",
        "laughing - when grade is exactly 70.00\r\n",
        "sad - when grade is below 70.00\r\n",
        "'''\r\n",
        "\r\n",
        "def grade_compute(name, course, prelim_grade, midterms_grade, finals_grade): # function\r\n",
        "  weight_prelims, weight_midterms, weight_finals = 0.3, 0.3, 0.4 # weights of grades\r\n",
        "  happy, lol, sad = \"\\U0001F600\",\"\\U0001F923\",\"\\U0001F619\" # emojis\r\n",
        "  sem_grade = prelim_grade*weight_prelims + midterms_grade*weight_midterms + finals_grade*weight_finals # semestral grades\r\n",
        "  \r\n",
        "  ### conditional statements\r\n",
        "  if sem_grade > 70: ## if sem_grade > 70,\r\n",
        "    print(\"Hello {} of {}, your semestral grade is: {:.2f} {}\".format(name, course, sem_grade, happy)) # then print this\r\n",
        "  elif sem_grade == 70: ## if sem_grade == 70,\r\n",
        "    print(\"Hello {} of {}, your semestral grade is: {:.2f} {}\".format(name, course, sem_grade, lol)) # then print this\r\n",
        "  else: ## if sem_grade is not >= 70,\r\n",
        "    print(\"Hello {} of {}, your semestral grade is: {:.2f} {}\".format(name, course, sem_grade, sad)) # then print this\r\n",
        "\r\n",
        "# calling the function with name, course, and grades as parameters    \r\n",
        "grade_compute(input(\"Student Name: \"), input(\"Course: \"), \r\n",
        "              float(input(\"Prelim: \")), float(input(\"Midterms: \")),float(input(\"Finals: \"))) "
      ],
      "execution_count": 1,
      "outputs": [
        {
          "output_type": "stream",
          "text": [
            "Student Name: moyk\n",
            "Course: BS CpE\n",
            "Prelim: 70\n",
            "Midterms: 70\n",
            "Finals: 70\n",
            "Hello moyk of BS CpE, your semestral grade is: 70.00 🤣\n"
          ],
          "name": "stdout"
        }
      ]
    },
    {
      "cell_type": "markdown",
      "metadata": {
        "id": "Tk-0wxbxefIr"
      },
      "source": [
        "##About the Code\r\n",
        "The code aims to create a semestral grade calculator where users or students could type in their names, course, prelim grade, midterm grade, and final grade. The program should output the semestral grade with 2 decimal points and should display a happy emoji if the grade is greater than 70.00, a laughing emoji if the grade is exactly 70.00, or sad if the grade is below 70.00.\r\n",
        "\r\n",
        "Firstly, the function grade_compute was created with the parameters: name, course, prelims grade, midterms grade, finals grade. These are the parameters since they are the values that will be inputted by the user. The variables for the weight of grades and emojis were set to use for the conditional statements. Afterwards, arithmetic operations were used to compute for the semestral grade. The conditional statements checks the computed semestral grade if it is either above 70.00, exactly 70.00, or below 70.00 and outputs a message where the user can see the inputted name, course, prelim grade, midterm grade, final grade, semestral grade with a 2 decimal limit, and a corresponding emoji depending on the semestral grade computed. It is important to remember that the function can only run if it was called so the last part of the code is the function being called.\r\n"
      ]
    },
    {
      "cell_type": "markdown",
      "metadata": {
        "id": "bm214oDH8Nxo"
      },
      "source": [
        "## References\r\n",
        "[1] W3 Schools (2021) [***W3 Schools: Variables***](https://www.w3schools.com/python/python_variables.asp)\r\n",
        "\r\n",
        "[2] W3 Schools (2021) [***W3 Schools: Data Types***](https://www.w3schools.com/python/python_datatypes.asp) \r\n",
        "\r\n",
        "[3] W3 Schools (2021) [***W3 Schools: Arithmetic Operators***](https://www.w3schools.com/python/gloss_python_arithmetic_operators.asp)\r\n",
        "\r\n",
        "[4] W3 Schools (2021) [***W3 Schools: Assignment Operators***](https://www.w3schools.com/python/gloss_python_assignment_operators.asp)\r\n",
        "\r\n",
        "[5] W3 Schools (2021) [***W3 Schools: Comparison Operators***](https://www.w3schools.com/python/gloss_python_comparison_operators.asp)\r\n",
        "\r\n",
        "[6] W3 Schools (2021) [***W3 Schools: Logical Operators***](https://www.w3schools.com/python/gloss_python_logical_operators.asp)\r\n",
        "\r\n",
        "[7] W3 Schools (2021) [***W3 Schools: Loops***](https://www.w3schools.in/python-tutorial/loops)\r\n",
        "\r\n",
        "[8] W3 Schools (2021) [***W3 Schools: While Loops***](https://www.w3schools.com/python/python_while_loops.asp)\r\n",
        "\r\n",
        "[9] W3 Schools (2021) [***W3 Schools: For Loops***](https://www.w3schools.com/python/python_for_loops.asp)\r\n",
        "\r\n",
        "[10] W3 Schools (2021) [***W3 Schools: Python Functions***](https://www.w3schools.com/python/python_functions.asp)\r\n",
        "\r\n",
        "[11] W3 Schools (2021) [***W3 Schools: Python Lambda***](https://www.w3schools.com/python/python_lambda.asp)"
      ]
    }
  ]
}