{
  "nbformat": 4,
  "nbformat_minor": 0,
  "metadata": {
    "colab": {
      "name": "58015_Sustento, Myke Alvin E._Linear Algebra",
      "provenance": [],
      "collapsed_sections": [],
      "include_colab_link": true
    },
    "kernelspec": {
      "name": "python3",
      "display_name": "Python 3"
    }
  },
  "cells": [
    {
      "cell_type": "markdown",
      "metadata": {
        "id": "view-in-github",
        "colab_type": "text"
      },
      "source": [
        "<a href=\"https://colab.research.google.com/github/Sus102/numeth2021/blob/main/58015_Sustento%2C%20Myke%20Alvin_E_Linear%20Algebra.ipynb\" target=\"_parent\"><img src=\"https://colab.research.google.com/assets/colab-badge.svg\" alt=\"Open In Colab\"/></a>"
      ]
    },
    {
      "cell_type": "markdown",
      "metadata": {
        "id": "CPi23qJFCw2L"
      },
      "source": [
        "# Linear Algebra\r\n",
        "\r\n",
        "Linear Algebra is one of the fundamental mathematics for Artificial Intelligence Development and also Computer Vision. We will see the applications of Linear Algebra in advanced mathematical techniques such as optimization, vectorized programming, and matrix manipulations. Today we will try to understand the basics of Linear Algebra using Python."
      ]
    },
    {
      "cell_type": "markdown",
      "metadata": {
        "id": "zfQWDrsEDzfi"
      },
      "source": [
        "## 1. Vectors\r\n",
        "NumPy or Numerical Python is a package or library that allows programmers to code and model computations and see them in action. You can check the [NumPy documentation](https://numpy.org/doc/stable/reference/index.html) on how to use their APIs.\r\n",
        "\r\n"
      ]
    },
    {
      "cell_type": "code",
      "metadata": {
        "id": "NyKiAJagCr23",
        "colab": {
          "base_uri": "https://localhost:8080/",
          "height": 0
        },
        "outputId": "0a7092f6-c35a-41bb-c3b3-90769b3dd7fc"
      },
      "source": [
        "## You can install NumPy in your local machine by doing the following line without the \"!\"\r\n",
        "!pip install numpy\r\n",
        "## But in Google Colab NumPy is already installed in your session.\r\n",
        "import numpy as np\r\n",
        "print(f'NumPy library version: {np.__version__}')"
      ],
      "execution_count": 3,
      "outputs": [
        {
          "output_type": "stream",
          "text": [
            "Requirement already satisfied: numpy in /usr/local/lib/python3.6/dist-packages (1.19.5)\n",
            "NumPy library version: 1.19.5\n"
          ],
          "name": "stdout"
        }
      ]
    },
    {
      "cell_type": "markdown",
      "metadata": {
        "id": "wr7iZs8-ECIh"
      },
      "source": [
        "### Defining Vectors, Matrices, and Tensors\r\n",
        "Vectors, Matrices, and Tensors are the fundamental objects in Linear Algebra programming. We'll be defining each of these objects specifically in the Computer Science/Engineering perspective since it would be much confusing if we consider their Physics and Pure Mathematics definitions."
      ]
    },
    {
      "cell_type": "markdown",
      "metadata": {
        "id": "hXyQT1GoEICC"
      },
      "source": [
        "#### <i>Scalars</i>\r\n",
        "Scalars are numerical entities that are represented by a single value. "
      ]
    },
    {
      "cell_type": "code",
      "metadata": {
        "id": "euMYAk53D96k",
        "colab": {
          "base_uri": "https://localhost:8080/",
          "height": 0
        },
        "outputId": "70fc2b7f-c917-4daa-b586-30a96450f557"
      },
      "source": [
        "x = np.array(5)\r\n",
        "y = np.array(3)\r\n",
        "x+y"
      ],
      "execution_count": 4,
      "outputs": [
        {
          "output_type": "execute_result",
          "data": {
            "text/plain": [
              "8"
            ]
          },
          "metadata": {
            "tags": []
          },
          "execution_count": 4
        }
      ]
    },
    {
      "cell_type": "markdown",
      "metadata": {
        "id": "FJWsNnsnEKPR"
      },
      "source": [
        "#### *Vectors*\r\n",
        "Vectors are array of numerical values or scalars that would represent any feature space. Feature spaces or simply dimensions or the parameters of an equation or a function."
      ]
    },
    {
      "cell_type": "code",
      "metadata": {
        "id": "Y6kqO2sLEOY7",
        "colab": {
          "base_uri": "https://localhost:8080/",
          "height": 0
        },
        "outputId": "9011e051-c6c3-4516-98ca-6bef31e48f2d"
      },
      "source": [
        "v = np.array([1,2,3])\r\n",
        "v\r\n",
        "v[0]"
      ],
      "execution_count": 5,
      "outputs": [
        {
          "output_type": "execute_result",
          "data": {
            "text/plain": [
              "1"
            ]
          },
          "metadata": {
            "tags": []
          },
          "execution_count": 5
        }
      ]
    },
    {
      "cell_type": "markdown",
      "metadata": {
        "id": "UpTSGTl0EOqx"
      },
      "source": [
        "#### *Matrices*\r\n",
        "Matrices are array of vectors or a multi-dimensional array for features for an equation or function."
      ]
    },
    {
      "cell_type": "code",
      "metadata": {
        "id": "9RyugRXrEQab",
        "colab": {
          "base_uri": "https://localhost:8080/",
          "height": 0
        },
        "outputId": "6faae6cd-d57c-4d08-985a-65bd3fb9f4c7"
      },
      "source": [
        "A = np.array([\r\n",
        "              [1,2,4],\r\n",
        "              [2,5,6],\r\n",
        "              [1,0,1]\r\n",
        "               ])\r\n",
        "A\r\n",
        "A[0,0]\r\n",
        "A[1,1]"
      ],
      "execution_count": 6,
      "outputs": [
        {
          "output_type": "execute_result",
          "data": {
            "text/plain": [
              "5"
            ]
          },
          "metadata": {
            "tags": []
          },
          "execution_count": 6
        }
      ]
    },
    {
      "cell_type": "markdown",
      "metadata": {
        "id": "7aHsGCpoEQ_h"
      },
      "source": [
        "#### *Tensors*\r\n",
        "Tensors are an array of matrices. Tensors have dimensions, tensors can have alternate names depending on what dimension they are in. 1D tensors can be considered as vectors, 2D tensors can be considered are matrices, and 3D onwards are called high dimensional tensors."
      ]
    },
    {
      "cell_type": "code",
      "metadata": {
        "id": "0LsB8OX7EWiJ",
        "colab": {
          "base_uri": "https://localhost:8080/",
          "height": 0
        },
        "outputId": "12768fbf-873d-404b-a22c-73ced79bd6f9"
      },
      "source": [
        "T = np.array([\r\n",
        "              [[1,2,4],[2,5,6],[1,0,1]],\r\n",
        "              [[0,2,4],[2,0,6],[-1,0,1]]\r\n",
        "])\r\n",
        "T"
      ],
      "execution_count": 7,
      "outputs": [
        {
          "output_type": "execute_result",
          "data": {
            "text/plain": [
              "array([[[ 1,  2,  4],\n",
              "        [ 2,  5,  6],\n",
              "        [ 1,  0,  1]],\n",
              "\n",
              "       [[ 0,  2,  4],\n",
              "        [ 2,  0,  6],\n",
              "        [-1,  0,  1]]])"
            ]
          },
          "metadata": {
            "tags": []
          },
          "execution_count": 7
        }
      ]
    },
    {
      "cell_type": "code",
      "metadata": {
        "colab": {
          "base_uri": "https://localhost:8080/",
          "height": 0
        },
        "id": "P31cUhrjXFh8",
        "outputId": "2f20d68e-bc85-446e-dab1-e7f4de4d3ae1"
      },
      "source": [
        "H = np.array([T,T])\r\n",
        "H"
      ],
      "execution_count": 8,
      "outputs": [
        {
          "output_type": "execute_result",
          "data": {
            "text/plain": [
              "array([[[[ 1,  2,  4],\n",
              "         [ 2,  5,  6],\n",
              "         [ 1,  0,  1]],\n",
              "\n",
              "        [[ 0,  2,  4],\n",
              "         [ 2,  0,  6],\n",
              "         [-1,  0,  1]]],\n",
              "\n",
              "\n",
              "       [[[ 1,  2,  4],\n",
              "         [ 2,  5,  6],\n",
              "         [ 1,  0,  1]],\n",
              "\n",
              "        [[ 0,  2,  4],\n",
              "         [ 2,  0,  6],\n",
              "         [-1,  0,  1]]]])"
            ]
          },
          "metadata": {
            "tags": []
          },
          "execution_count": 8
        }
      ]
    },
    {
      "cell_type": "markdown",
      "metadata": {
        "id": "bpwgaV-mESxA"
      },
      "source": [
        "Here's a visual representation of the data types that we are going to use. <br>\r\n",
        "<img src=\"https://static.javatpoint.com/tutorial/pytorch/images/pytorch-tensors.png\">\r\n",
        "\r\n"
      ]
    },
    {
      "cell_type": "markdown",
      "metadata": {
        "id": "DuSXe7etEZPQ"
      },
      "source": [
        "### Describing Tensors\r\n",
        "\r\n",
        "Describing tensors is very important if we want to perform basic to advanced operations with them. The fundamental ways in describing tensors are knowing their shape, size, and dimensions.\r\n"
      ]
    },
    {
      "cell_type": "markdown",
      "metadata": {
        "id": "SwgpdKt9Em2J"
      },
      "source": [
        "#### *Shapes*\r\n",
        "The shape of a tensor tells us how many rows and columns are there in an axis.\r\n"
      ]
    },
    {
      "cell_type": "code",
      "metadata": {
        "id": "1_zIw1OsEluE",
        "colab": {
          "base_uri": "https://localhost:8080/",
          "height": 0
        },
        "outputId": "8ad322c2-77c2-4d62-86b9-542824eac96d"
      },
      "source": [
        "print(v.shape)\r\n",
        "print(A.shape)\r\n",
        "print(T.shape)\r\n",
        "print(H.shape)"
      ],
      "execution_count": 9,
      "outputs": [
        {
          "output_type": "stream",
          "text": [
            "(3,)\n",
            "(3, 3)\n",
            "(2, 3, 3)\n",
            "(2, 2, 3, 3)\n"
          ],
          "name": "stdout"
        }
      ]
    },
    {
      "cell_type": "markdown",
      "metadata": {
        "id": "8ApYwUyQEpmx"
      },
      "source": [
        "#### <i>Dimensions</i>\r\n",
        "In NumPy the dimension of a tensor is also called axes."
      ]
    },
    {
      "cell_type": "code",
      "metadata": {
        "id": "LCfMGIsrErwR",
        "colab": {
          "base_uri": "https://localhost:8080/",
          "height": 0
        },
        "outputId": "39c6b4ae-cb58-4033-bf3b-ce3c4ca8b345"
      },
      "source": [
        "print(x.ndim)\r\n",
        "print(v.ndim)\r\n",
        "print(A.ndim)\r\n",
        "print(T.ndim)\r\n",
        "print(H.ndim)"
      ],
      "execution_count": 10,
      "outputs": [
        {
          "output_type": "stream",
          "text": [
            "0\n",
            "1\n",
            "2\n",
            "3\n",
            "4\n"
          ],
          "name": "stdout"
        }
      ]
    },
    {
      "cell_type": "markdown",
      "metadata": {
        "id": "DbzQSFQ1EsPB"
      },
      "source": [
        "#### *Sizes*\r\n",
        "The size of a tensor/ vector/ matrix is simply the total number of elements in it."
      ]
    },
    {
      "cell_type": "code",
      "metadata": {
        "id": "H6HtwIRBEvUB",
        "colab": {
          "base_uri": "https://localhost:8080/",
          "height": 0
        },
        "outputId": "53761a6d-8815-4e5b-df04-ddd0ced02187"
      },
      "source": [
        "print(x.size)\r\n",
        "print(v.size)\r\n",
        "print(T.size)\r\n",
        "print(H.size)"
      ],
      "execution_count": 11,
      "outputs": [
        {
          "output_type": "stream",
          "text": [
            "1\n",
            "3\n",
            "18\n",
            "36\n"
          ],
          "name": "stdout"
        }
      ]
    },
    {
      "cell_type": "markdown",
      "metadata": {
        "id": "bfLvsCCdEvzR"
      },
      "source": [
        "## Types of Matrices\r\n",
        "The notation and use of matrices are probably one of the fundamentals of modern computing. Matrices are also handy representations of complex equations or multiple inter-related equations from 2-dimensional equations to even hundreds and thousands of them.\r\n",
        "\r\n",
        "Let's say for example you have $A$ and $B$ as the system of equations.\r\n",
        "\r\n",
        "$$\r\n",
        "A = \\left\\{\r\n",
        "    \\begin{array}\\\\\r\n",
        "        x + y \\\\ \r\n",
        "        4x - 10y\r\n",
        "    \\end{array}\r\n",
        "\\right. \\\\\r\n",
        "B = \\left\\{\r\n",
        "    \\begin{array}\\\\\r\n",
        "        x+y+z \\\\ \r\n",
        "        3x -2y -z \\\\\r\n",
        "        -x + 4y +2z\r\n",
        "    \\end{array}\r\n",
        "\\right. $$\r\n",
        "\r\n",
        "We could see that $A$ is a system of 2 equations with 2 parameters. While $B$ is a system of 3 equations with 3 parameters. We can represent them as matrices as:\r\n",
        "\r\n",
        "$$\r\n",
        "A=\\begin{bmatrix} 1 & 1 \\\\ 4 & {-10}\\end{bmatrix} \\\\\r\n",
        "B=\\begin{bmatrix} 1 & 1 & 1 \\\\ 3 & -2 & -1 \\\\ -1 & 4 & 2\\end{bmatrix}\r\n",
        "$$\r\n",
        "\r\n",
        "We'll represent the system of linear equations as a matrix. The entities or numbers in matrices are called the elements of a matrix. These elements are arranged and ordered in rows and columns which form the list/array-like structure of matrices. And just like arrays, these elements are indexed according to their position with respect to their rows and columns. This can be represented just like the equation below. Whereas $A$ is a matrix consisting of elements denoted by $a_{i,j}$. Denoted by $i$ is the number of rows in the matrix while $j$ stands for the number of columns.<br>\r\n",
        "Do note that the $size$ of a matrix is $i\\times j$.\r\n",
        "$$A=\\begin{bmatrix}\r\n",
        "a_{(0,0)}&a_{(0,1)}&\\dots&a_{(0,j-1)}\\\\\r\n",
        "a_{(1,0)}&a_{(1,1)}&\\dots&a_{(1,j-1)}\\\\\r\n",
        "\\vdots&\\vdots&\\ddots&\\vdots&\\\\\r\n",
        "a_{(i-1,0)}&a_{(i-1,1)}&\\dots&a_{(i-1,j-1)}\r\n",
        "\\end{bmatrix}\r\n",
        "$$\r\n",
        "We already gone over some of the types of matrices as vectors but we'll further discuss them in this laboratory activity. Since you already know how to describe vectors using shape, dimensions and size attributes, we'll use them to analyze these matrices."
      ]
    },
    {
      "cell_type": "code",
      "metadata": {
        "id": "uICoQit6E06p"
      },
      "source": [
        "def describe_mat(matrix):\r\n",
        "    print(f'Matrix:\\n{matrix}\\n\\nShape:\\t{matrix.shape}\\nRank:\\t{matrix.ndim}\\n')"
      ],
      "execution_count": 52,
      "outputs": []
    },
    {
      "cell_type": "code",
      "metadata": {
        "id": "CbF8cedvE7Hr"
      },
      "source": [
        ""
      ],
      "execution_count": 51,
      "outputs": []
    },
    {
      "cell_type": "markdown",
      "metadata": {
        "id": "Ig-gl-rSE-uq"
      },
      "source": [
        "### Matrices according to shape"
      ]
    },
    {
      "cell_type": "markdown",
      "metadata": {
        "id": "VHRtsc3fFBWw"
      },
      "source": [
        "#### *Row and Column Matrices*\r\n",
        "\r\n",
        "Row and column matrices are common in vector and matrix computations. They can also represent row and column spaces of a bigger vector space. Row and column matrices are represented by a single column or single row. So with that being, the shape of row matrices would be $1 \\times j$ and column matrices would be $i \\times 1$."
      ]
    },
    {
      "cell_type": "code",
      "metadata": {
        "id": "Ddc899xwFA7b",
        "colab": {
          "base_uri": "https://localhost:8080/",
          "height": 0
        },
        "outputId": "566c04cf-7990-4f64-c2a2-a8e72e542555"
      },
      "source": [
        "## Declaring a Row Matrix\r\n",
        "rows = np.array([\r\n",
        "                 [1,2,3]\r\n",
        "                 ])\r\n",
        "describe_mat(rows)"
      ],
      "execution_count": 13,
      "outputs": [
        {
          "output_type": "stream",
          "text": [
            "Matrix:\n",
            "[[1 2 3]]\n",
            "\n",
            "Shape:\t(1, 3)\n",
            "Rank:\t2\n",
            "\n"
          ],
          "name": "stdout"
        }
      ]
    },
    {
      "cell_type": "code",
      "metadata": {
        "id": "Y_7qozkmFHIj",
        "colab": {
          "base_uri": "https://localhost:8080/",
          "height": 0
        },
        "outputId": "01b7ee1f-ce7b-4ac8-e0e9-64be792d7fcb"
      },
      "source": [
        "## Declaring a Column Matrix\r\n",
        "cols = np.array([\r\n",
        "                 [1],\r\n",
        "                 [2],\r\n",
        "                 [3]\r\n",
        "])\r\n",
        "describe_mat(cols)"
      ],
      "execution_count": 14,
      "outputs": [
        {
          "output_type": "stream",
          "text": [
            "Matrix:\n",
            "[[1]\n",
            " [2]\n",
            " [3]]\n",
            "\n",
            "Shape:\t(3, 1)\n",
            "Rank:\t2\n",
            "\n"
          ],
          "name": "stdout"
        }
      ]
    },
    {
      "cell_type": "markdown",
      "metadata": {
        "id": "B9v0LYERFK1a"
      },
      "source": [
        "#### <i>Square Matrices</i>\r\n",
        "Square matrices are matrices that have the same row and column sizes. We could say a matrix is square if $i = j$. We can tweak our matrix descriptor function to determine square matrices."
      ]
    },
    {
      "cell_type": "code",
      "metadata": {
        "id": "TjUWmKseFIkL",
        "colab": {
          "base_uri": "https://localhost:8080/",
          "height": 0
        },
        "outputId": "19e5f9d0-4d55-4843-8162-475ee28df269"
      },
      "source": [
        "square = np.array([\r\n",
        "                   [1,4],\r\n",
        "                   [5,1]\r\n",
        "])\r\n",
        "describe_mat(square)"
      ],
      "execution_count": 15,
      "outputs": [
        {
          "output_type": "stream",
          "text": [
            "Matrix:\n",
            "[[1 4]\n",
            " [5 1]]\n",
            "\n",
            "Shape:\t(2, 2)\n",
            "Rank:\t2\n",
            "\n"
          ],
          "name": "stdout"
        }
      ]
    },
    {
      "cell_type": "markdown",
      "metadata": {
        "id": "QLWp8IaxFQHJ"
      },
      "source": [
        "### Matrices according to element values"
      ]
    },
    {
      "cell_type": "markdown",
      "metadata": {
        "id": "YXYw9-pxFS8Z"
      },
      "source": [
        "#### <i>Empty Matrix</i>\r\n",
        "\r\n",
        "An empty Matrix is a matrix that has no elements. It is always a subspace of any vector or matrix."
      ]
    },
    {
      "cell_type": "code",
      "metadata": {
        "id": "xlO-lmVBFRNA",
        "colab": {
          "base_uri": "https://localhost:8080/",
          "height": 0
        },
        "outputId": "54cbf6ee-d7ba-4a1a-9b8b-d0dfc5fcabc0"
      },
      "source": [
        "empty = np.array([])\r\n",
        "print(empty)\r\n",
        "\r\n",
        "empty_1 = np.empty((2,2))\r\n",
        "print(empty_1)"
      ],
      "execution_count": 16,
      "outputs": [
        {
          "output_type": "stream",
          "text": [
            "[]\n",
            "[[1. 1.]\n",
            " [1. 0.]]\n"
          ],
          "name": "stdout"
        }
      ]
    },
    {
      "cell_type": "markdown",
      "metadata": {
        "id": "ofntAyNKFVkA"
      },
      "source": [
        "#### <i>Zero/Null Matrix</i>\r\n",
        "A zero matrix can be any rectangular matrix but with all elements having a value of 0. In most texts, the zero matrix is denoted as $\\emptyset$.<br>\r\n",
        "Check out: [`numpy.zeros`](https://numpy.org/doc/stable/reference/generated/numpy.zeros.html)"
      ]
    },
    {
      "cell_type": "code",
      "metadata": {
        "id": "bN4orlEzFV34",
        "colab": {
          "base_uri": "https://localhost:8080/",
          "height": 0
        },
        "outputId": "277ab578-d712-4f6a-80ea-881e304867c4"
      },
      "source": [
        "zero = np.zeros((3,3))\r\n",
        "print(zero)\r\n",
        "\r\n",
        "zero_1 = np.full((3,3),0)\r\n",
        "print(zero_1)"
      ],
      "execution_count": 17,
      "outputs": [
        {
          "output_type": "stream",
          "text": [
            "[[0. 0. 0.]\n",
            " [0. 0. 0.]\n",
            " [0. 0. 0.]]\n",
            "[[0 0 0]\n",
            " [0 0 0]\n",
            " [0 0 0]]\n"
          ],
          "name": "stdout"
        }
      ]
    },
    {
      "cell_type": "markdown",
      "metadata": {
        "id": "CHwAtgfaFWWY"
      },
      "source": [
        "#### <i>Ones Matrix</i>\r\n",
        "A ones matrix, just like zero matrices, can be any rectangular matrix but all of its elements are 1s instead of 0s.\r\n",
        "\r\n",
        "Check out: [`numpy.ones`](https://numpy.org/doc/stable/reference/generated/numpy.ones.html)"
      ]
    },
    {
      "cell_type": "code",
      "metadata": {
        "id": "wZayvxxRFYHI",
        "colab": {
          "base_uri": "https://localhost:8080/",
          "height": 0
        },
        "outputId": "61a621bc-fa53-4ef0-a77a-820b7ba12af0"
      },
      "source": [
        "ones = np.ones((3,3))\r\n",
        "print(ones)\r\n",
        "\r\n",
        "ones_1 = np.full((3,3),1)\r\n",
        "print(ones)"
      ],
      "execution_count": 18,
      "outputs": [
        {
          "output_type": "stream",
          "text": [
            "[[1. 1. 1.]\n",
            " [1. 1. 1.]\n",
            " [1. 1. 1.]]\n",
            "[[1. 1. 1.]\n",
            " [1. 1. 1.]\n",
            " [1. 1. 1.]]\n"
          ],
          "name": "stdout"
        }
      ]
    },
    {
      "cell_type": "markdown",
      "metadata": {
        "id": "_Y2fAx-rFYgg"
      },
      "source": [
        "#### <i>Diagonal Matrix</i>\r\n",
        "\r\n",
        "Check out: [`numpy.diag`](https://numpy.org/doc/stable/reference/generated/numpy.diag.html)"
      ]
    },
    {
      "cell_type": "code",
      "metadata": {
        "id": "qbl75HLUFaCQ",
        "colab": {
          "base_uri": "https://localhost:8080/",
          "height": 0
        },
        "outputId": "7f7af915-eef0-4b05-f342-09b6dabf4af3"
      },
      "source": [
        "diagonal = np.diag([9,3,2,1])\r\n",
        "diagonal"
      ],
      "execution_count": 19,
      "outputs": [
        {
          "output_type": "execute_result",
          "data": {
            "text/plain": [
              "array([[9, 0, 0, 0],\n",
              "       [0, 3, 0, 0],\n",
              "       [0, 0, 2, 0],\n",
              "       [0, 0, 0, 1]])"
            ]
          },
          "metadata": {
            "tags": []
          },
          "execution_count": 19
        }
      ]
    },
    {
      "cell_type": "markdown",
      "metadata": {
        "id": "pLxVWf2tFaaT"
      },
      "source": [
        "#### <i>Identity Matrix</i>\r\n",
        "An identity matrix is a special diagonal matrix in which the values at the diagonal are ones. In most texts, the identity matrix is denoted as $I$.<br>\r\n",
        "Check out: \r\n",
        "* [`numpy.eye`](https://numpy.org/doc/stable/reference/generated/numpy.eye.html)\r\n",
        "* [`numpy.identity`](https://numpy.org/doc/stable/reference/generated/numpy.identity.html)"
      ]
    },
    {
      "cell_type": "code",
      "metadata": {
        "id": "snCHNo94FcuQ",
        "colab": {
          "base_uri": "https://localhost:8080/",
          "height": 0
        },
        "outputId": "b50c1005-2c04-4c42-e67b-1d6d5ee77f9f"
      },
      "source": [
        "identity = np.identity(3)\r\n",
        "identity"
      ],
      "execution_count": 20,
      "outputs": [
        {
          "output_type": "execute_result",
          "data": {
            "text/plain": [
              "array([[1., 0., 0.],\n",
              "       [0., 1., 0.],\n",
              "       [0., 0., 1.]])"
            ]
          },
          "metadata": {
            "tags": []
          },
          "execution_count": 20
        }
      ]
    },
    {
      "cell_type": "markdown",
      "metadata": {
        "id": "4sp2nmx1FdBg"
      },
      "source": [
        "#### <i>Scalar Matrix</i>\r\n",
        "Since scalars cannot be explicitly operated with matrices, one workaround is to convert scalars into matrices. This is done by a matrix with all diagonal values equal to the original scalar."
      ]
    },
    {
      "cell_type": "code",
      "metadata": {
        "id": "y5kOPm9uFel4",
        "colab": {
          "base_uri": "https://localhost:8080/",
          "height": 0
        },
        "outputId": "d41031b4-c2e3-40af-a024-2ef7c6032a8b"
      },
      "source": [
        "scal = np.diag([3,3,3])\r\n",
        "print(scal)\r\n",
        "scal_1 = 3*np.eye(3)\r\n",
        "print(scal_1)"
      ],
      "execution_count": 21,
      "outputs": [
        {
          "output_type": "stream",
          "text": [
            "[[3 0 0]\n",
            " [0 3 0]\n",
            " [0 0 3]]\n",
            "[[3. 0. 0.]\n",
            " [0. 3. 0.]\n",
            " [0. 0. 3.]]\n"
          ],
          "name": "stdout"
        }
      ]
    },
    {
      "cell_type": "markdown",
      "metadata": {
        "id": "LRidQS1PFfSB"
      },
      "source": [
        "#### <i>Upper Triangular Matrix</i>\r\n",
        "An upper triangular matrix is a matrix that has no values below the diagonal."
      ]
    },
    {
      "cell_type": "code",
      "metadata": {
        "id": "Hznqw8iIFhPo",
        "colab": {
          "base_uri": "https://localhost:8080/",
          "height": 0
        },
        "outputId": "621bc5e7-f736-4c82-96e4-b1569292707f"
      },
      "source": [
        "upper = np.array([\r\n",
        "                  [1, 1, 1],\r\n",
        "                  [0,-1, 2],\r\n",
        "                  [0, 0,11],\r\n",
        "])\r\n",
        "upper"
      ],
      "execution_count": 22,
      "outputs": [
        {
          "output_type": "execute_result",
          "data": {
            "text/plain": [
              "array([[ 1,  1,  1],\n",
              "       [ 0, -1,  2],\n",
              "       [ 0,  0, 11]])"
            ]
          },
          "metadata": {
            "tags": []
          },
          "execution_count": 22
        }
      ]
    },
    {
      "cell_type": "markdown",
      "metadata": {
        "id": "fIt_zh7vFhuy"
      },
      "source": [
        "#### <i>Lower Triangular Matrix</i>\r\n",
        "\r\n",
        "\r\n",
        "A lower triangular matrix is a matrix that has no values above the diagonal."
      ]
    },
    {
      "cell_type": "code",
      "metadata": {
        "id": "L8AHzCphFjTh",
        "colab": {
          "base_uri": "https://localhost:8080/",
          "height": 0
        },
        "outputId": "4df7b7c9-6bfd-4c18-d2dc-ee8543ee9063"
      },
      "source": [
        "lower = np.array([\r\n",
        "                  [1, 0, 0],\r\n",
        "                  [1, 1, 0],\r\n",
        "                  [21,2,-1],\r\n",
        "])\r\n",
        "lower"
      ],
      "execution_count": 23,
      "outputs": [
        {
          "output_type": "execute_result",
          "data": {
            "text/plain": [
              "array([[ 1,  0,  0],\n",
              "       [ 1,  1,  0],\n",
              "       [21,  2, -1]])"
            ]
          },
          "metadata": {
            "tags": []
          },
          "execution_count": 23
        }
      ]
    },
    {
      "cell_type": "markdown",
      "metadata": {
        "id": "YrHljLnqFkGp"
      },
      "source": [
        "# Matrix / Tensor Algebra\r\n",
        "Moving forward with matrices, vectors, and tensors. We'll try to see them in action using the commonly used operations for tensors. We will now dwell on the concepts and applications of Tensor Algebra"
      ]
    },
    {
      "cell_type": "markdown",
      "metadata": {
        "id": "DHOcEAhmFnqx"
      },
      "source": [
        "## Arithmetic / Element-wise Operations\r\n",
        "Check out: \r\n",
        "* [`numpy.add`](https://numpy.org/doc/stable/reference/generated/numpy.add.html)\r\n",
        "* [`numpy.sum`](https://numpy.org/doc/stable/reference/generated/numpy.sum.html)\r\n",
        "* [`numpy.subtract`](https://numpy.org/doc/stable/reference/generated/numpy.subtract.html)\r\n",
        "* [`numpy.multiply`](https://numpy.org/doc/stable/reference/generated/numpy.multiply.html)\r\n",
        "* [`numpy.square`](https://numpy.org/doc/stable/reference/generated/numpy.square.html)\r\n",
        "* [`numpy.divide`](https://numpy.org/doc/stable/reference/generated/numpy.divide.html)"
      ]
    },
    {
      "cell_type": "code",
      "metadata": {
        "id": "2uWM0oFZFmTJ",
        "colab": {
          "base_uri": "https://localhost:8080/",
          "height": 0
        },
        "outputId": "6b634eb7-0652-42a9-ae7e-0059db07ea13"
      },
      "source": [
        "## Addition\r\n",
        "A = np.array([\r\n",
        "              [1, 3],\r\n",
        "              [0,-4]\r\n",
        "])\r\n",
        "B = np.array([\r\n",
        "              [-2, -1],\r\n",
        "              [ 0,0.5]\r\n",
        "])\r\n",
        "A+B\r\n",
        "A+5 #broadcasting\r\n",
        "np.add(A,B)"
      ],
      "execution_count": 24,
      "outputs": [
        {
          "output_type": "execute_result",
          "data": {
            "text/plain": [
              "array([[-1. ,  2. ],\n",
              "       [ 0. , -3.5]])"
            ]
          },
          "metadata": {
            "tags": []
          },
          "execution_count": 24
        }
      ]
    },
    {
      "cell_type": "code",
      "metadata": {
        "id": "BRgjTiETFqzK",
        "colab": {
          "base_uri": "https://localhost:8080/",
          "height": 0
        },
        "outputId": "44d3a1c4-3e1f-444a-ec63-9512e77735c2"
      },
      "source": [
        "## Subtraction\r\n",
        "print(A-B)\r\n",
        "np.subtract(A,B)\r\n",
        "print(A-1)#broadcasting"
      ],
      "execution_count": 25,
      "outputs": [
        {
          "output_type": "stream",
          "text": [
            "[[ 3.   4. ]\n",
            " [ 0.  -4.5]]\n",
            "[[ 0  2]\n",
            " [-1 -5]]\n"
          ],
          "name": "stdout"
        }
      ]
    },
    {
      "cell_type": "code",
      "metadata": {
        "id": "gaq2uDF1Fr1x",
        "colab": {
          "base_uri": "https://localhost:8080/",
          "height": 0
        },
        "outputId": "67ee57fc-1370-46f6-9bb6-2569caf441cd"
      },
      "source": [
        "## Multiplication\r\n",
        "np.multiply(A,B)\r\n",
        "3*A"
      ],
      "execution_count": 26,
      "outputs": [
        {
          "output_type": "execute_result",
          "data": {
            "text/plain": [
              "array([[  3,   9],\n",
              "       [  0, -12]])"
            ]
          },
          "metadata": {
            "tags": []
          },
          "execution_count": 26
        }
      ]
    },
    {
      "cell_type": "code",
      "metadata": {
        "id": "nmZ5be7lFup5",
        "colab": {
          "base_uri": "https://localhost:8080/",
          "height": 0
        },
        "outputId": "b1bc350a-c812-4451-b28f-f24359e109fd"
      },
      "source": [
        "## Division\r\n",
        "alpha = 1.0e-6\r\n",
        "A/(B+alpha)\r\n",
        "1/(A+alpha)\r\n",
        "1//(A+alpha)\r\n",
        "np.square(A)"
      ],
      "execution_count": 27,
      "outputs": [
        {
          "output_type": "execute_result",
          "data": {
            "text/plain": [
              "array([[ 1,  9],\n",
              "       [ 0, 16]])"
            ]
          },
          "metadata": {
            "tags": []
          },
          "execution_count": 27
        }
      ]
    },
    {
      "cell_type": "markdown",
      "metadata": {
        "id": "teroH5PJF1Fw"
      },
      "source": [
        "## Transpose of a Matrix\r\n",
        "One of the fundamental operations in matrix algebra is Transposition. The transpose of a matrix is done by flipping the values of its elements over its diagonals. With this, the rows and columns from the original matrix will be switched. So for a matrix $A$ its transpose is denoted as $A^T$. So for example:\r\n",
        "\r\n",
        "$$A = \\begin{bmatrix} 1 & 2 & 5\\\\5 & -1 &0 \\\\ 0 & -3 & 3\\end{bmatrix} $$\r\n",
        "$$ A^T = \\begin{bmatrix} 1 & 5 & 0\\\\2 & -1 &-3 \\\\ 5 & 0 & 3\\end{bmatrix}$$\r\n",
        "This can now be achieved programmatically by using `np.transpose()` or using the `T` method.<br>\r\n",
        "Check out:\r\n",
        "* [`np.transpose`](https://numpy.org/doc/stable/reference/generated/numpy.transpose.html)\r\n"
      ]
    },
    {
      "cell_type": "code",
      "metadata": {
        "id": "GbI3wbxTF3pJ",
        "colab": {
          "base_uri": "https://localhost:8080/",
          "height": 0
        },
        "outputId": "d6cc16ee-fa6b-4681-b4cb-619bfeba3a05"
      },
      "source": [
        "A = np.array([\r\n",
        "              [1,2,5],\r\n",
        "              [5,-1,0],\r\n",
        "              [0,-3,3],\r\n",
        "              ])\r\n",
        "print(A)\r\n",
        "print(A.T)"
      ],
      "execution_count": 28,
      "outputs": [
        {
          "output_type": "stream",
          "text": [
            "[[ 1  2  5]\n",
            " [ 5 -1  0]\n",
            " [ 0 -3  3]]\n",
            "[[ 1  5  0]\n",
            " [ 2 -1 -3]\n",
            " [ 5  0  3]]\n"
          ],
          "name": "stdout"
        }
      ]
    },
    {
      "cell_type": "markdown",
      "metadata": {
        "id": "66BnVMxeF5rB"
      },
      "source": [
        "## Vector Product\r\n",
        "The inner product of a vector is the sum of the products of each element of the vectors. So given vectors $H$ and $G$ below:\r\n",
        "$$H=\\begin{bmatrix}1\\\\3\\\\6\\end{bmatrix}, G = \\begin{bmatrix}5\\\\2\\\\1\\end{bmatrix}$$\r\n",
        "We first take the element-wise product of the vectors:\r\n",
        "$$H*G = \\begin{bmatrix}5\\\\6\\\\6\\end{bmatrix}$$\r\n",
        "Then we take the sum of the products, making it the inner product of a vector:\r\n",
        "$$H\\cdot G = 17$$\r\n",
        "You can solve for the inner product using an explicit function, `np.inner()` or the `@` operator.<br>\r\n",
        "Check out:\r\n",
        "* [`np.inner`](https://numpy.org/doc/stable/reference/generated/numpy.inner.html)"
      ]
    },
    {
      "cell_type": "code",
      "metadata": {
        "id": "-m73UfOQF764",
        "colab": {
          "base_uri": "https://localhost:8080/",
          "height": 0
        },
        "outputId": "8770ae86-49cf-4580-f1f7-25ad20e76667"
      },
      "source": [
        "H = np.array([1,3,6])\r\n",
        "G = np.array([5,2,1])\r\n",
        "\r\n",
        "## Alternatives\r\n",
        "# np.sum(H*G) \r\n",
        "# np.inner(H,G)\r\n",
        "H@G"
      ],
      "execution_count": 29,
      "outputs": [
        {
          "output_type": "execute_result",
          "data": {
            "text/plain": [
              "17"
            ]
          },
          "metadata": {
            "tags": []
          },
          "execution_count": 29
        }
      ]
    },
    {
      "cell_type": "markdown",
      "metadata": {
        "id": "1yvij6t2F90h"
      },
      "source": [
        "In matrix dot products, we are going to get the sum of products of the vectors by row-column pairs. So if we have two matrices $X$ and $Y$:\r\n",
        "\r\n",
        "$$X = \\begin{bmatrix}x_{(0,0)}&x_{(0,1)}\\\\ x_{(1,0)}&x_{(1,1)}\\end{bmatrix}, Y = \\begin{bmatrix}y_{(0,0)}&y_{(0,1)}\\\\ y_{(1,0)}&y_{(1,1)}\\end{bmatrix}$$\r\n",
        "\r\n",
        "The dot product will then be computed as:\r\n",
        "$$X \\cdot Y= \\begin{bmatrix} x_{(0,0)}*y_{(0,0)} + x_{(0,1)}*y_{(1,0)} & x_{(0,0)}*y_{(0,1)} + x_{(0,1)}*y_{(1,1)} \\\\  x_{(1,0)}*y_{(0,0)} + x_{(1,1)}*y_{(1,0)} & x_{(1,0)}*y_{(0,1)} + x_{(1,1)}*y_{(1,1)}\r\n",
        "\\end{bmatrix}$$\r\n",
        "\r\n",
        "So if we assign values to $X$ and $Y$:\r\n",
        "$$X = \\begin{bmatrix}1&2\\\\0&1\\end{bmatrix}, Y = \\begin{bmatrix}-1&0\\\\ 2&2\\end{bmatrix}$$\r\n",
        "Check out:\r\n",
        "* [`np.dot`](https://numpy.org/doc/stable/reference/generated/numpy.inner.html)"
      ]
    },
    {
      "cell_type": "code",
      "metadata": {
        "id": "HdKvvQ4IF-Ep",
        "colab": {
          "base_uri": "https://localhost:8080/",
          "height": 0
        },
        "outputId": "ff9d375c-7deb-40a9-9b97-898b1a42b8f5"
      },
      "source": [
        "X = np.array([\r\n",
        "              [1,2],\r\n",
        "              [0,1]\r\n",
        "              ])\r\n",
        "Y = np.array([\r\n",
        "              [-1,0],\r\n",
        "              [2,2]\r\n",
        "              ])\r\n",
        "\r\n",
        "## Alternatives\r\n",
        "np.dot(X,Y)\r\n",
        "X@Y\r\n",
        "np.matmul(X,Y)"
      ],
      "execution_count": 30,
      "outputs": [
        {
          "output_type": "execute_result",
          "data": {
            "text/plain": [
              "array([[3, 4],\n",
              "       [2, 2]])"
            ]
          },
          "metadata": {
            "tags": []
          },
          "execution_count": 30
        }
      ]
    },
    {
      "cell_type": "markdown",
      "metadata": {
        "id": "_oK1tJptGAER"
      },
      "source": [
        "In matrix dot products there are additional rules compared with vector dot products. Since vector dot products were just in one dimension, there are fewer restrictions. Since now we are dealing with Rank 2 vectors we need to consider some rules:\r\n",
        "\r\n",
        "**Rule 1: The inner dimensions of the two matrices in question must be the same.**\r\n",
        "\r\n",
        "So given a matrix $A$ with a shape of $(a,b)$ where $a$ and $b$ are any integers. If we want to do a dot product between $A$ and another matrix $B$, then matrix $B$ should have a shape of $(b,c)$ where $b$ and $c$ are any integers. So for given the following matrices:\r\n",
        "\r\n",
        "$$A = \\begin{bmatrix}2&4\\\\5&-2\\\\0&1\\end{bmatrix}, B = \\begin{bmatrix}1&1\\\\3&3\\\\-1&-2\\end{bmatrix}, C = \\begin{bmatrix}0&1&1\\\\1&1&2\\end{bmatrix}$$\r\n",
        "\r\n",
        "So in this case $A$ has a shape of $(3,2)$, $B$ has a shape of $(3,2)$ and $C$ has a shape of $(2,3)$. So the only matrix pairs that is eligible to perform dot product is matrices $A \\cdot C$, or $B \\cdot C$.  "
      ]
    },
    {
      "cell_type": "code",
      "metadata": {
        "id": "JxDIYsPcGF3p",
        "colab": {
          "base_uri": "https://localhost:8080/",
          "height": 0
        },
        "outputId": "c5690e6d-7eed-4519-e12e-1c8fcc7f4bad"
      },
      "source": [
        "A = np.array([\r\n",
        "              [2, 4,1],\r\n",
        "              [5,-2,2],\r\n",
        "              [0, 1,3]\r\n",
        "])\r\n",
        "\r\n",
        "B = np.array([\r\n",
        "              [ 1, 1,1],\r\n",
        "              [ 3, 3,2],\r\n",
        "              [-1,-2,3]\r\n",
        "])\r\n",
        "\r\n",
        "C = np.array([\r\n",
        "              [0,1,1],\r\n",
        "              [1,1,2],\r\n",
        "              [0,1,2]\r\n",
        "])\r\n",
        "\r\n",
        "\r\n",
        "A@C"
      ],
      "execution_count": 31,
      "outputs": [
        {
          "output_type": "execute_result",
          "data": {
            "text/plain": [
              "array([[ 4,  7, 12],\n",
              "       [-2,  5,  5],\n",
              "       [ 1,  4,  8]])"
            ]
          },
          "metadata": {
            "tags": []
          },
          "execution_count": 31
        }
      ]
    },
    {
      "cell_type": "markdown",
      "metadata": {
        "id": "MfSjkrITGGOZ"
      },
      "source": [
        "**Rule 2: Dot Product has special properties**\r\n",
        "\r\n",
        "Dot products are prevalent in matrix algebra, this implies that it has several unique properties and it should be considered when formulation solutions:\r\n",
        " 1. $A \\cdot B \\neq B \\cdot A$\r\n",
        " 2. $A \\cdot (B \\cdot C) = (A \\cdot B) \\cdot C$\r\n",
        " 3. $A\\cdot(B+C) = A\\cdot B + A\\cdot C$\r\n",
        " 4. $(B+C)\\cdot A = B\\cdot A + C\\cdot A$\r\n",
        " 5. $A\\cdot I = A$\r\n",
        " 6. $A\\cdot \\emptyset = \\emptyset$ "
      ]
    },
    {
      "cell_type": "code",
      "metadata": {
        "colab": {
          "base_uri": "https://localhost:8080/",
          "height": 0
        },
        "id": "8T5SFGra3Nvg",
        "outputId": "ee7e4e4e-2563-461b-ed59-267a2cfca629"
      },
      "source": [
        "A@B == B@A"
      ],
      "execution_count": 32,
      "outputs": [
        {
          "output_type": "execute_result",
          "data": {
            "text/plain": [
              "array([[False, False, False],\n",
              "       [False, False, False],\n",
              "       [False, False, False]])"
            ]
          },
          "metadata": {
            "tags": []
          },
          "execution_count": 32
        }
      ]
    },
    {
      "cell_type": "code",
      "metadata": {
        "id": "g4dRHPVOGlig",
        "colab": {
          "base_uri": "https://localhost:8080/",
          "height": 0
        },
        "outputId": "12d1b028-1c5d-429e-fc17-53f98f43ddf0"
      },
      "source": [
        "A@(B@C) == (A@B)@C"
      ],
      "execution_count": 33,
      "outputs": [
        {
          "output_type": "execute_result",
          "data": {
            "text/plain": [
              "array([[ True,  True,  True],\n",
              "       [ True,  True,  True],\n",
              "       [ True,  True,  True]])"
            ]
          },
          "metadata": {
            "tags": []
          },
          "execution_count": 33
        }
      ]
    },
    {
      "cell_type": "code",
      "metadata": {
        "colab": {
          "base_uri": "https://localhost:8080/",
          "height": 0
        },
        "id": "NnJgyipXe6gN",
        "outputId": "02ec61f2-df17-4300-e810-8fe46849fd0c"
      },
      "source": [
        "A@(B+C) == A@B+A@C"
      ],
      "execution_count": 34,
      "outputs": [
        {
          "output_type": "execute_result",
          "data": {
            "text/plain": [
              "array([[ True,  True,  True],\n",
              "       [ True,  True,  True],\n",
              "       [ True,  True,  True]])"
            ]
          },
          "metadata": {
            "tags": []
          },
          "execution_count": 34
        }
      ]
    },
    {
      "cell_type": "code",
      "metadata": {
        "colab": {
          "base_uri": "https://localhost:8080/",
          "height": 0
        },
        "id": "QdjQcbRk4e0V",
        "outputId": "3b579566-d3e2-4e47-fa73-ebb0e95a77c6"
      },
      "source": [
        "(B+C) @ A == B@A + C@A"
      ],
      "execution_count": 35,
      "outputs": [
        {
          "output_type": "execute_result",
          "data": {
            "text/plain": [
              "array([[ True,  True,  True],\n",
              "       [ True,  True,  True],\n",
              "       [ True,  True,  True]])"
            ]
          },
          "metadata": {
            "tags": []
          },
          "execution_count": 35
        }
      ]
    },
    {
      "cell_type": "code",
      "metadata": {
        "colab": {
          "base_uri": "https://localhost:8080/",
          "height": 0
        },
        "id": "GPhswBcN4jzh",
        "outputId": "46a78faa-492e-4265-d4e4-d90d38492b49"
      },
      "source": [
        "I = np.identity(3)\r\n",
        "A@I == A"
      ],
      "execution_count": 36,
      "outputs": [
        {
          "output_type": "execute_result",
          "data": {
            "text/plain": [
              "array([[ True,  True,  True],\n",
              "       [ True,  True,  True],\n",
              "       [ True,  True,  True]])"
            ]
          },
          "metadata": {
            "tags": []
          },
          "execution_count": 36
        }
      ]
    },
    {
      "cell_type": "code",
      "metadata": {
        "colab": {
          "base_uri": "https://localhost:8080/",
          "height": 0
        },
        "id": "pQmNst5G6wtl",
        "outputId": "f16db256-d22d-4b57-d0fd-3d986797f298"
      },
      "source": [
        "zero = np.zeros(3)\r\n",
        "A@zero == zero"
      ],
      "execution_count": 37,
      "outputs": [
        {
          "output_type": "execute_result",
          "data": {
            "text/plain": [
              "array([ True,  True,  True])"
            ]
          },
          "metadata": {
            "tags": []
          },
          "execution_count": 37
        }
      ]
    },
    {
      "cell_type": "markdown",
      "metadata": {
        "id": "IMysYX4QGiuQ"
      },
      "source": [
        "## Determinants\r\n",
        "A determinant is a scalar value derived from a square matrix. The determinant is a fundamental and important value used in matrix algebra. \r\n",
        "\r\n",
        "The determinant of some matrix $A$ is denoted as $det(A)$ or $|A|$. So let's say $A$ is represented as:\r\n",
        "$$A = \\begin{bmatrix}a_{(0,0)}&a_{(0,1)}\\\\a_{(1,0)}&a_{(1,1)}\\end{bmatrix}$$\r\n",
        "We can compute for the determinant as:\r\n",
        "$$|A| = a_{(0,0)}*a_{(1,1)} - a_{(1,0)}*a_{(0,1)}$$\r\n",
        "So if we have $A$ as:\r\n",
        "$$A = \\begin{bmatrix}1&4\\\\0&3\\end{bmatrix}, |A| = 3$$\r\n",
        "\r\n",
        "But you might wonder how about square matrices beyond the shape $(2,2)$? We can approach this problem by using several methods such as co-factor expansion and the minors method. This can be taught in the lecture of the laboratory but we can achieve the strenuous computation of high-dimensional matrices programmatically using Python. We can achieve this by using [`np.linalg.det`](https://numpy.org/doc/stable/reference/generated/numpy.linalg.det.html)."
      ]
    },
    {
      "cell_type": "code",
      "metadata": {
        "id": "Sj5X1o_mGIRg",
        "colab": {
          "base_uri": "https://localhost:8080/",
          "height": 0
        },
        "outputId": "2cd002e7-cbe5-48c5-a35d-443575c50db3"
      },
      "source": [
        "A = np.array([\r\n",
        "              [1,4],\r\n",
        "              [0,3]\r\n",
        "])\r\n",
        "np.linalg.det(A)\r\n"
      ],
      "execution_count": 38,
      "outputs": [
        {
          "output_type": "execute_result",
          "data": {
            "text/plain": [
              "3.0000000000000004"
            ]
          },
          "metadata": {
            "tags": []
          },
          "execution_count": 38
        }
      ]
    },
    {
      "cell_type": "markdown",
      "metadata": {
        "id": "7j3EPb9ZGsdI"
      },
      "source": [
        "## 2.6 Matrix Inverse\r\n",
        "\r\n",
        "The inverse of a matrix is another fundamental operation in matrix algebra. Determining the inverse of a matrix let us determine if its solvability and its characteristic as a system of linear equation. Another use of the inverse matrix is solving the problem of divisibility between matrices. Although element-wise division exist but dividing the entire concept of matrices does not exists. Inverse matrices provide a related operation that could have the same concept of \"dividing\" matrices.\r\n",
        "\r\n",
        "Now to determine the inverse of a matrix we need to perform several steps. So let's say we have a matrix $M$:\r\n",
        "$$M = \\begin{bmatrix}1&7\\\\-3&5\\end{bmatrix}$$\r\n",
        "First, we need to get the determinant of $M$.\r\n",
        "$$|M| = (1)(5)-(-3)(7) = 26$$\r\n",
        "Next, we need to reform the matrix into the inverse form:\r\n",
        "$$M^{-1} = \\frac{1}{|M|} \\begin{bmatrix} m_{(1,1)} & -m_{(0,1)} \\\\ -m_{(1,0)} & m_{(0,0)}\\end{bmatrix}$$\r\n",
        "So that will be:\r\n",
        "$$M^{-1} = \\frac{1}{26} \\begin{bmatrix} 5 & -7 \\\\ 3 & 1\\end{bmatrix} = \\begin{bmatrix} \\frac{5}{26} & \\frac{-7}{26} \\\\ \\frac{3}{26} & \\frac{1}{26}\\end{bmatrix}$$\r\n",
        "For higher-dimension matrices, you might need to use co-factors, minors, adjugates, and other reduction techniques. To solve this programmatically we can use [`np.linalg.inv`](https://numpy.org/doc/stable/reference/generated/numpy.linalg.inv.html).\r\n",
        "\r\n",
        "To validate the wether if the matric that you have solved is really the inverse, we follow this dot product property for a matrix $M$:\r\n",
        "$$M\\cdot M^{-1} = I$$"
      ]
    },
    {
      "cell_type": "code",
      "metadata": {
        "id": "no8zVYLmGuJ9",
        "colab": {
          "base_uri": "https://localhost:8080/",
          "height": 0
        },
        "outputId": "75d6fa91-af93-459a-cf94-270cf2bbb8eb"
      },
      "source": [
        "M = np.array([\r\n",
        "              [1,7],\r\n",
        "              [-3,5]\r\n",
        "])\r\n",
        "M_inv = np.linalg.inv(M)\r\n",
        "M_inv\r\n",
        "M@M_inv"
      ],
      "execution_count": 39,
      "outputs": [
        {
          "output_type": "execute_result",
          "data": {
            "text/plain": [
              "array([[ 1.00000000e+00,  2.77555756e-17],\n",
              "       [-2.77555756e-17,  1.00000000e+00]])"
            ]
          },
          "metadata": {
            "tags": []
          },
          "execution_count": 39
        }
      ]
    },
    {
      "cell_type": "markdown",
      "metadata": {
        "id": "hmNLmGPvGuig"
      },
      "source": [
        "# System of Linear Equations\r\n",
        "\r\n",
        "Solving linear equations is one of the fundamental skills of higher engineering mathematics. Aside from solving them, we must be skilled enough to spot them in the wild as well.\r\n",
        "\r\n",
        "Given an equation:\r\n",
        "$$\r\n",
        "B = \\left\\{\r\n",
        "    \\begin{array}\\\\\r\n",
        "        x+y+z=1\\\\ \r\n",
        "        3x -2y -z=4 \\\\\r\n",
        "        -x + 4y +2z=-3\r\n",
        "    \\end{array}\r\n",
        "\\right. $$\r\n",
        "\r\n",
        "We can represent it in matrix form considering the linear combination of the equations. We can also think of its dot product form:\r\n",
        "$$\r\n",
        "\\begin{bmatrix}1&1&1\\\\3&-2&-1\\\\-1&4&2\\end{bmatrix} \\cdot \\begin{bmatrix}x\\\\ y\\\\ z\\end{bmatrix} = \\begin{bmatrix}1\\\\4\\\\-3\\end{bmatrix}\r\n",
        "$$\r\n",
        "We can make a general form for this equation by putting our matrices and vectors as variables. So let's say that the matrix $\\begin{bmatrix}1&1&1\\\\3&-2&-1\\\\-1&4&2\\end{bmatrix}$ is $X$ and $\\begin{bmatrix}x\\\\ y\\\\ z\\end{bmatrix} = \\begin{bmatrix}x\\\\y\\\\z\\end{bmatrix}$ is the vector $r$ then the answer $\\begin{bmatrix}1\\\\4\\\\-3\\end{bmatrix}$ as $Y$. So we'll have:\r\n",
        "$$\r\n",
        "X r = Y\r\n",
        "$$\r\n",
        "Our goal is to solve for $r$ so we can solve it algebraically by multiplying both sides with the inverse of $X$, so we'll get:\r\n",
        "$$\r\n",
        "X^{-1}X r = X^{-1}Y\\\\\r\n",
        "Ir = X^{-1}Y\\\\\r\n",
        "r = X^{-1}Y\r\n",
        "$$\r\n",
        "We'll take $r = X^{-1}Y$ as the $\\textbf{vectorized}$ equation as our formula in solving for the vector $r$ or simply solving for $x,y,$and$z$. We can then code that as:"
      ]
    },
    {
      "cell_type": "code",
      "metadata": {
        "id": "GzoKTOWMG8Hh"
      },
      "source": [
        "X = np.array([\r\n",
        "    [1,1,1],\r\n",
        "    [3,-2,-1],\r\n",
        "    [-1,4,2]\r\n",
        "])\r\n",
        "Y = np.array([\r\n",
        "    [1],\r\n",
        "    [4],\r\n",
        "    [-3]\r\n",
        "])"
      ],
      "execution_count": 40,
      "outputs": []
    },
    {
      "cell_type": "code",
      "metadata": {
        "colab": {
          "base_uri": "https://localhost:8080/",
          "height": 0
        },
        "id": "sLnAWvcK8H4J",
        "outputId": "5ac1b4cd-1d63-4b9f-a6fa-3cb5fbc8ddaa"
      },
      "source": [
        "X_inv = np.linalg.inv(X)\r\n",
        "X_inv"
      ],
      "execution_count": 41,
      "outputs": [
        {
          "output_type": "execute_result",
          "data": {
            "text/plain": [
              "array([[ 0. ,  0.4,  0.2],\n",
              "       [-1. ,  0.6,  0.8],\n",
              "       [ 2. , -1. , -1. ]])"
            ]
          },
          "metadata": {
            "tags": []
          },
          "execution_count": 41
        }
      ]
    },
    {
      "cell_type": "code",
      "metadata": {
        "colab": {
          "base_uri": "https://localhost:8080/",
          "height": 0
        },
        "id": "L0hx2JtO8JMA",
        "outputId": "8830fe40-78f7-4ccb-9adc-4e066b4870d1"
      },
      "source": [
        "r = X_inv @ Y\r\n",
        "r"
      ],
      "execution_count": 42,
      "outputs": [
        {
          "output_type": "execute_result",
          "data": {
            "text/plain": [
              "array([[ 1.],\n",
              "       [-1.],\n",
              "       [ 1.]])"
            ]
          },
          "metadata": {
            "tags": []
          },
          "execution_count": 42
        }
      ]
    },
    {
      "cell_type": "markdown",
      "metadata": {
        "id": "dI4FSIg98jVc"
      },
      "source": [
        "To valdiate if $r$ is correct then we can back-substitute to our equation $X r = Y$ to check if the dot product of $X$ and $r$ is $Y$."
      ]
    },
    {
      "cell_type": "code",
      "metadata": {
        "id": "6LDStUkc8io1",
        "colab": {
          "base_uri": "https://localhost:8080/",
          "height": 0
        },
        "outputId": "fa3496e8-36c8-4a90-fd63-113a2bc02ea8"
      },
      "source": [
        "X @ r"
      ],
      "execution_count": 43,
      "outputs": [
        {
          "output_type": "execute_result",
          "data": {
            "text/plain": [
              "array([[ 1.],\n",
              "       [ 4.],\n",
              "       [-3.]])"
            ]
          },
          "metadata": {
            "tags": []
          },
          "execution_count": 43
        }
      ]
    },
    {
      "cell_type": "markdown",
      "metadata": {
        "id": "h9cOTHv2IpS4"
      },
      "source": [
        "### Visualizing Vectors\r\n",
        "\r\n",
        "So far I know you have been experiencing mathematical exhaustion due to all these mathematical expressions. Allow me to show you a tad more interesting side of Linear Algebra.\r\n",
        "\r\n",
        "Undoubtedly, one of the most interesting and frustrating parts of Data Analysts and Data Scientist is visualizing data. Although we will be visualizing more on matrices and tensors. So, bear with me here and I'll try to spark a bit of interest in you guys. "
      ]
    },
    {
      "cell_type": "code",
      "metadata": {
        "id": "Q2hEQblFIsAo"
      },
      "source": [
        "### If you haven't installed it use:\r\n",
        "#!pip install matplotlib\r\n",
        "\r\n",
        "import matplotlib.pyplot as plt"
      ],
      "execution_count": 44,
      "outputs": []
    },
    {
      "cell_type": "markdown",
      "metadata": {
        "id": "yTjmJzzfItuQ"
      },
      "source": [
        "#### <i>2D Cartersian Plots</i>\r\n",
        "Check out:\r\n",
        "* [`matplotlib.pyplot.xlim`](https://matplotlib.org/3.3.3/api/_as_gen/matplotlib.pyplot.xlim.html)\r\n",
        "* [`matplotlib.pyplot.ylim`](https://matplotlib.org/3.3.3/api/_as_gen/matplotlib.pyplot.ylim.html)\r\n",
        "* [`matplotlib.pyplot.quiver`](https://matplotlib.org/3.3.3/api/_as_gen/matplotlib.pyplot.quiver.html)\r\n",
        "* [`matplotlib.pyplot.grid`](https://matplotlib.org/3.3.3/api/_as_gen/matplotlib.pyplot.grid.html)\r\n",
        "* [`matplotlib.pyplot.show`](https://matplotlib.org/3.3.3/api/_as_gen/matplotlib.pyplot.show.html)"
      ]
    },
    {
      "cell_type": "code",
      "metadata": {
        "id": "hg52Q9AKIvbI",
        "colab": {
          "base_uri": "https://localhost:8080/",
          "height": 286
        },
        "outputId": "c36fe758-bd35-4be1-925a-19eb7fba41e0"
      },
      "source": [
        "A = np.array([4, 3])\r\n",
        "B = np.array([2, -5])\r\n",
        "\r\n",
        "plt.xlim(-15, 15)\r\n",
        "plt.ylim(-15, 15)\r\n",
        "plt.quiver(0,0, A[0], A[1], angles='xy', scale_units='xy',scale=1, color='red') # Red --> A\r\n",
        "plt.quiver(A[0], A[1], B[0], B[1], angles='xy', scale_units='xy',scale=1, color='b') # Blue --> B\r\n",
        "\r\n",
        "R = A + B\r\n",
        "plt.quiver(0, 0, R[0], R[1], angles='xy', scale_units='xy',scale=1, color='g') # Blue --> B\r\n",
        "print(R)\r\n",
        "\r\n",
        "plt.grid()\r\n",
        "plt.show()\r\n"
      ],
      "execution_count": 45,
      "outputs": [
        {
          "output_type": "stream",
          "text": [
            "[ 6 -2]\n"
          ],
          "name": "stdout"
        },
        {
          "output_type": "display_data",
          "data": {
            "image/png": "[encoded data removed]",
            "text/plain": [
              "<Figure size 432x288 with 1 Axes>"
            ]
          },
          "metadata": {
            "tags": [],
            "needs_background": "light"
          }
        }
      ]
    },
    {
      "cell_type": "markdown",
      "metadata": {
        "id": "06hJJe31I85Y"
      },
      "source": [
        "## Practice 1: Modulus of a Vector\r\n",
        "The modulus of a vector or the magnitude of a vector can be determined using the Pythagorean theorem. Given the vector $A$ and its scalars denoted as $a_n$ where $n$ is the index of the scalar. So if we have:\r\n",
        "$$A = \\begin{bmatrix}1\\\\2\\end{bmatrix}$$\r\n",
        "We can compute the magnitude as:\r\n",
        "$$||A|| = \\sqrt{a_1^2 + a_2^2} = \\sqrt{1^2 + 2^2} = \\sqrt{5}$$\r\n",
        "So if we have a matrix with more parameters such as:\r\n",
        "$$B=\\begin{bmatrix}2\\\\5\\\\-1\\\\0\\end{bmatrix}$$\r\n",
        "We can generalize the Pythagorean theorem to compute for the magnitude as:\r\n",
        "$$||B|| = \\sqrt{b_1^2 + b_2^2 + b_3^2 + ... +b_n^2} = \\sqrt{\\sum_{n=1}^{N}b_n^2}$$\r\n",
        "And this equation is now called a Euclidian distance or the Euclidean Norm. "
      ]
    },
    {
      "cell_type": "code",
      "metadata": {
        "colab": {
          "base_uri": "https://localhost:8080/",
          "height": 0
        },
        "id": "-KOlBZDGwmkW",
        "outputId": "c4e986cf-f4d6-435f-a7ef-52ec89e7c970"
      },
      "source": [
        "B = np.array([2,5,-1,0]) #example vector\r\n",
        "\r\n",
        "def norm(vector): #function\r\n",
        "  squared_scalars = [scalars ** 2 for scalars in vector] # squares the scalars in the vectors\r\n",
        "  sum_vect = 0 # serves as reference for the for loop\r\n",
        "  for scalars in range(len(squared_scalars)): # for loop to include all the scalars\r\n",
        "    sum_vect += squared_scalars[scalars] # gets the sum of the squared scalars\r\n",
        "  e_norm = np.sqrt(sum_vect)  # gets the square root of the sum of squared scalars\r\n",
        "  return e_norm # returns euclidian norm\r\n",
        "\r\n",
        "print(\"the euclidian norm of the example vector:\",  norm(B)) # calling the function"
      ],
      "execution_count": 53,
      "outputs": [
        {
          "output_type": "stream",
          "text": [
            "the euclidian norm of the example vector: 5.477225575051661\n"
          ],
          "name": "stdout"
        }
      ]
    },
    {
      "cell_type": "code",
      "metadata": {
        "id": "2nPVVYk5LEUf",
        "colab": {
          "base_uri": "https://localhost:8080/",
          "height": 0
        },
        "outputId": "de4f62c6-090f-4003-9a82-6739ca35447e"
      },
      "source": [
        "## alternative using numpy function\r\n",
        "def np_norm(vect): #function\r\n",
        "  e_norm = np.linalg.norm(vect) #e_norm numpy function \r\n",
        "  return e_norm #returns e_norm\r\n",
        "\r\n",
        "print(\"the euclidian norm of the example vector:\",  norm(B))"
      ],
      "execution_count": 54,
      "outputs": [
        {
          "output_type": "stream",
          "text": [
            "the euclidian norm of the example vector: 5.477225575051661\n"
          ],
          "name": "stdout"
        }
      ]
    },
    {
      "cell_type": "markdown",
      "metadata": {
        "id": "nuSz2lU6-wFX"
      },
      "source": [
        "##About The Code\r\n",
        "The code starts off by creating a standard function called norm with \"vector\" as its parameter. To get a euclidian norm, every scalars must be squared then the sum of those squared scalars will be square rooted. Using this logic, the function starts off by squaring the scalars in the vector then the sum of the square scalars will be retrieved. The sum of the squared scalars will then be square rooted. The return e_norm was added so that when the function is called it would show the euclidian norm value. Lastly, the function was called using the example vector as the parameter. Alternatively, the numpy function numpy.linalg.norm() can be used to get the euclidian norm [1]."
      ]
    },
    {
      "cell_type": "markdown",
      "metadata": {
        "id": "BrzGwH5cI-Aw"
      },
      "source": [
        "## Practice 2: The Sigmoid\r\n",
        "The sigmoid function is one of the popular Activation Functions which we will discuss later on. The sigmoid is a bounded, differentiable, real function in which its range would be any value from 0 to 1. It is widely used in binary classifications.\r\n",
        "![image](https://upload.wikimedia.org/wikipedia/commons/thumb/8/88/Logistic-curve.svg/1200px-Logistic-curve.svg.png)\r\n",
        "If we were to check the equation characterizing this curve in textbooks or journals it would be:\r\n",
        "$$sig(x)=\\frac{1}{1+e^{-x}}$$\r\n",
        "or\r\n",
        "$$\\sigma(x)=\\frac{1}{1+e^{-x}}$$\r\n",
        "So let's try to translate this in NumPy. You might want to use [`numpy.exp`](https://numpy.org/doc/stable/reference/generated/numpy.exp.html) for this function. <br>\r\n",
        "If you want to read more about the sigmoid function click [here](https://medium.com/@himanshuxd/activation-functions-sigmoid-relu-leaky-relu-and-softmax-basics-for-neural-networks-and-deep-8d9c70eed91e)."
      ]
    },
    {
      "cell_type": "code",
      "metadata": {
        "id": "4UTUaj1pJAH3",
        "colab": {
          "base_uri": "https://localhost:8080/",
          "height": 0
        },
        "outputId": "8c2fec33-3352-48c9-8f75-3aa24f10914b"
      },
      "source": [
        "# standard function sigmoid\r\n",
        "def sigmoid(x): return 1/(1+np.exp(-x)) #function that returns 1/(1+np.exp(-x))\r\n",
        "sigmoid(0.69420) #calling the function"
      ],
      "execution_count": 56,
      "outputs": [
        {
          "output_type": "execute_result",
          "data": {
            "text/plain": [
              "0.666900585474916"
            ]
          },
          "metadata": {
            "tags": []
          },
          "execution_count": 56
        }
      ]
    },
    {
      "cell_type": "code",
      "metadata": {
        "colab": {
          "base_uri": "https://localhost:8080/",
          "height": 0
        },
        "id": "XqjqpW3_KvMW",
        "outputId": "179ef760-f51b-4321-c731-d5e885da20fe"
      },
      "source": [
        "# lambda function sigmoid\r\n",
        "sig = lambda x: 1/(1+ np.exp(-x)) # lambda function with x as argument and 1/(1+ np.exp(-x)) as expression\r\n",
        "sig(0.69420) #calling the function"
      ],
      "execution_count": 55,
      "outputs": [
        {
          "output_type": "execute_result",
          "data": {
            "text/plain": [
              "0.666900585474916"
            ]
          },
          "metadata": {
            "tags": []
          },
          "execution_count": 55
        }
      ]
    },
    {
      "cell_type": "markdown",
      "metadata": {
        "id": "D_o4qSFgJ2mm"
      },
      "source": [
        "## About The Code\r\n",
        "The activity is about the sigmoid getting translated into numpy. The activity required 2 function to be created with the first one being the standard function while the second one being the lambda function. The standard function was started by creating a function named sigmoid with \"x\" as the parameter since x is the variable used in the formula. Since the function only requires to return an output of a formula, it can just return the formula directly. Using the np.exp, the exponential of -x can be obtained [2]. The lambda function works almost the same as the standard function but the obvious difference is that it is a lambda function. The lambda function takes x as the argument and the formula as the expression. Both functions could be called using sigmoid(x)."
      ]
    },
    {
      "cell_type": "markdown",
      "metadata": {
        "id": "8pO-gsBLLhtK"
      },
      "source": [
        "## References\r\n",
        "[1] Numpy (2021) [***Numpy: numpy.linalg.norm***](https://numpy.org/doc/stable/reference/generated/numpy.linalg.norm.html)\r\n",
        "\r\n",
        "[2] Numpy (2021) [***Numpy: numpy.exp***](https://numpy.org/doc/stable/reference/generated/numpy.exp.html)"
      ]
    }
  ]
}